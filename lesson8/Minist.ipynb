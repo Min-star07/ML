{
 "cells": [
  {
   "cell_type": "code",
   "execution_count": 1,
   "metadata": {},
   "outputs": [],
   "source": [
    "import torch\n",
    "from torchvision import transforms\n",
    "from torchvision import datasets\n",
    "from torch.utils.data import DataLoader\n",
    "import torch.nn.functional as F"
   ]
  },
  {
   "cell_type": "code",
   "execution_count": 14,
   "metadata": {},
   "outputs": [
    {
     "name": "stdout",
     "output_type": "stream",
     "text": [
      "<class 'torchvision.datasets.mnist.MNIST'>\n",
      "Shape of images: torch.Size([1, 28, 28])\n",
      "10000\n",
      "938\n"
     ]
    }
   ],
   "source": [
    "# 1 Prepare data\n",
    "transform = transforms.Compose(\n",
    "    [\n",
    "        transforms.ToTensor(),\n",
    "        transforms.Normalize((0.1307,), (0.3081,)),\n",
    "    ]\n",
    ")\n",
    "train_dataset = datasets.MNIST(\"./data\", train=True, download=True, transform=transform)\n",
    "test_dataset = datasets.MNIST(\"./data\", train=False, download=True, transform=transform)\n",
    "\n",
    "print(type(train_dataset))\n",
    "\n",
    "data_iter = iter(train_dataset)\n",
    "images, labels = next(data_iter)\n",
    "# Print the shape of the images and labels\n",
    "print(\n",
    "    f\"Shape of images: {images.shape}\"\n",
    ")  # Should output something like torch.Size([64, 1, 28, 28])\n",
    "\n",
    "batch_size = 64\n",
    "\n",
    "train_loader = DataLoader(train_dataset, batch_size=batch_size, shuffle=True)\n",
    "test_loader = DataLoader(test_dataset, batch_size=batch_size, shuffle=True)\n",
    "print(len(test_dataset))\n",
    "print(len(train_loader))"
   ]
  },
  {
   "cell_type": "code",
   "execution_count": null,
   "metadata": {},
   "outputs": [],
   "source": [
    "class NET(torch.nn.Module):\n",
    "    def __init__(self):\n",
    "        super(NET, self).__init__()\n",
    "        self.conv1 = torch.nn.Conv2d(28, 26, 3)\n",
    "        self.maxpool = torch.nn.MaxPool2d(2)\n",
    "        self.conv1 = torch.nn.Conv2d(26, 13, 3)\n",
    "        self.maxpool = torch.nn.MaxPool2d(2)\n",
    "        self.flatern = torch.nn.Flatten()\n",
    "        self.l1 = torch.nn.Linear(1600, 128)\n",
    "        self.l1 = torch.nn.Linear(128, 10)\n",
    "\n",
    "    def forward(self, x):\n",
    "        out = torch.nn.ReLU(x)\n",
    "        out = torch.nn.ReLU(out)\n",
    "        return out\n",
    "\n",
    "\n",
    "model = NET()\n",
    "\n",
    "loss_fn = torch.nn.BCELoss()\n",
    "\n",
    "optimizer = torch.optim.SGD()\n",
    "\n",
    "epoch_num = 1000\n",
    "\n",
    "loss_list = []\n",
    "for epoch in epoch_num:\n",
    "    loss_sum = 0.0\n",
    "    for batch_idx, data in enumerate(train_loader):\n",
    "        inputs, targets = data\n",
    "        outputs = model(inputs)\n",
    "        outputs = torch.max(outputs, dim=0)\n",
    "        loss = loss_fn(outputs, targets)\n",
    "        loss_sum += loss.item()\n",
    "        optimizer.zero_grad()\n",
    "        loss.backward()\n",
    "        optimizer.step()\n",
    "    print(f\"epoch : {epoch} loss : {loss_sum}\")\n",
    "    loss_list.append(loss_sum)"
   ]
  }
 ],
 "metadata": {
  "kernelspec": {
   "display_name": "base",
   "language": "python",
   "name": "python3"
  },
  "language_info": {
   "codemirror_mode": {
    "name": "ipython",
    "version": 3
   },
   "file_extension": ".py",
   "mimetype": "text/x-python",
   "name": "python",
   "nbconvert_exporter": "python",
   "pygments_lexer": "ipython3",
   "version": "3.11.5"
  }
 },
 "nbformat": 4,
 "nbformat_minor": 2
}
