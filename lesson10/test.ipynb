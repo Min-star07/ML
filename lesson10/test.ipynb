{
 "cells": [
  {
   "cell_type": "code",
   "execution_count": 3,
   "metadata": {},
   "outputs": [
    {
     "name": "stdout",
     "output_type": "stream",
     "text": [
      "Calculating for 2, 3...\n",
      "6\n",
      "6\n",
      "Calculating for 4, 5...\n",
      "20\n"
     ]
    }
   ],
   "source": [
    "import functools\n",
    "\n",
    "\n",
    "# Applying LRU cache with a maximum size of 1 (only the most recent call is cached)\n",
    "@functools.lru_cache(maxsize=1)\n",
    "def expensive_function(x, y):\n",
    "    print(f\"Calculating for {x}, {y}...\")\n",
    "    return x * y\n",
    "\n",
    "\n",
    "# First time the function is called, it computes and caches the result\n",
    "print(expensive_function(2, 3))  # Output: 6 (and prints the message)\n",
    "\n",
    "# Second time with the same arguments, the result is returned from the cache\n",
    "print(expensive_function(2, 3))  # Output: 6 (but no message is printed)\n",
    "\n",
    "# With different arguments, it recalculates\n",
    "print(expensive_function(4, 5))  # Output: 20 (prints the message)"
   ]
  },
  {
   "cell_type": "code",
   "execution_count": 4,
   "metadata": {},
   "outputs": [
    {
     "name": "stdout",
     "output_type": "stream",
     "text": [
      "10\n",
      "20\n",
      "10\n",
      "20\n"
     ]
    }
   ],
   "source": [
    "from collections import namedtuple\n",
    "\n",
    "# Define a namedtuple type called 'Point'\n",
    "Point = namedtuple(\"Point\", [\"x\", \"y\"])\n",
    "\n",
    "# Create an instance of Point\n",
    "p = Point(10, 20)\n",
    "\n",
    "# Accessing values\n",
    "print(p.x)  # Output: 10\n",
    "print(p.y)  # Output: 20\n",
    "\n",
    "# Namedtuple can also behave like a regular tuple\n",
    "print(p[0])  # Output: 10\n",
    "print(p[1])  # Output: 20"
   ]
  },
  {
   "cell_type": "code",
   "execution_count": 5,
   "metadata": {},
   "outputs": [
    {
     "name": "stdout",
     "output_type": "stream",
     "text": [
      "{'uid1': [((1.0, 2.0, 3.0), 5.0), ((4.0, 5.0, 6.0), 10.0)]}\n"
     ]
    }
   ],
   "source": [
    "diameter_dict = {}\n",
    "\n",
    "# Example data\n",
    "series_uid = \"uid1\"\n",
    "annotationCenter_xyz = (1.0, 2.0, 3.0)\n",
    "annotationDiameter_mm = 5.0\n",
    "\n",
    "# Adding the first annotation\n",
    "diameter_dict.setdefault(series_uid, []).append(\n",
    "    (annotationCenter_xyz, annotationDiameter_mm)\n",
    ")\n",
    "\n",
    "# Adding another annotation for the same series_uid\n",
    "annotationCenter_xyz = (4.0, 5.0, 6.0)\n",
    "annotationDiameter_mm = 10.0\n",
    "diameter_dict.setdefault(series_uid, []).append(\n",
    "    (annotationCenter_xyz, annotationDiameter_mm)\n",
    ")\n",
    "\n",
    "print(diameter_dict)"
   ]
  }
 ],
 "metadata": {
  "kernelspec": {
   "display_name": "base",
   "language": "python",
   "name": "python3"
  },
  "language_info": {
   "codemirror_mode": {
    "name": "ipython",
    "version": 3
   },
   "file_extension": ".py",
   "mimetype": "text/x-python",
   "name": "python",
   "nbconvert_exporter": "python",
   "pygments_lexer": "ipython3",
   "version": "3.11.5"
  }
 },
 "nbformat": 4,
 "nbformat_minor": 2
}
