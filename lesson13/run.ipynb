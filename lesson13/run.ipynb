{
 "cells": [
  {
   "cell_type": "code",
   "execution_count": 1,
   "metadata": {},
   "outputs": [],
   "source": [
    "import datetime\n",
    "\n",
    "from util import importstr\n",
    "from logconf import logging\n",
    "import numpy as np\n",
    "\n",
    "log = logging.getLogger(\"nb\")"
   ]
  },
  {
   "cell_type": "code",
   "execution_count": 2,
   "metadata": {},
   "outputs": [],
   "source": [
    "def run(app, *argv):\n",
    "    argv = list(argv)\n",
    "    argv.insert(0, \"--num-workers=4\")  # <1>\n",
    "    log.info(\"Running: {}({!r}).main()\".format(app, argv))\n",
    "\n",
    "    app_cls = importstr(*app.rsplit(\".\", 1))  # <2>\n",
    "    app_cls(argv).main()\n",
    "\n",
    "    log.info(\"Finished: {}.{!r}).main()\".format(app, argv))"
   ]
  },
  {
   "cell_type": "code",
   "execution_count": 3,
   "metadata": {},
   "outputs": [],
   "source": [
    "training_epochs = 20\n",
    "experiment_epochs = 10\n",
    "final_epochs = 50\n",
    "\n",
    "training_epochs = 2\n",
    "experiment_epochs = 2\n",
    "final_epochs = 5\n",
    "seg_epochs = 2"
   ]
  },
  {
   "cell_type": "code",
   "execution_count": 4,
   "metadata": {},
   "outputs": [
    {
     "name": "stderr",
     "output_type": "stream",
     "text": [
      "2024-11-02 00:03:05,323 INFO     pid:74999 nb:004:run Running: prepcache.LunaPrepCacheApp(['--num-workers=4']).main()\n",
      "2024-11-02 00:03:07,537 INFO     pid:74999 prepcache:051:main Starting LunaPrepCacheApp, Namespace(batch_size=1024, num_workers=4)\n",
      "2024-11-02 00:03:08,426 WARNING  pid:74999 util:219:enumerateWithEstimate Stuffing cache ----/56, starting\n",
      "2024-11-02 00:03:10,215 INFO     pid:74999 util:236:enumerateWithEstimate Stuffing cache    8/56, done at 2024-11-02 00:03:11, 0:00:01\n",
      "2024-11-02 00:03:10,925 INFO     pid:74999 util:236:enumerateWithEstimate Stuffing cache   16/56, done at 2024-11-02 00:03:13, 0:00:03\n",
      "2024-11-02 00:03:12,359 INFO     pid:74999 util:236:enumerateWithEstimate Stuffing cache   32/56, done at 2024-11-02 00:03:14, 0:00:04\n",
      "2024-11-02 00:03:14,199 WARNING  pid:74999 util:249:enumerateWithEstimate Stuffing cache ----/56, done at 2024-11-02 00:03:14\n",
      "2024-11-02 00:03:14,200 INFO     pid:74999 nb:009:run Finished: prepcache.LunaPrepCacheApp.['--num-workers=4']).main()\n"
     ]
    }
   ],
   "source": [
    "np.bool = np.bool_\n",
    "run(\"prepcache.LunaPrepCacheApp\")"
   ]
  },
  {
   "cell_type": "code",
   "execution_count": 5,
   "metadata": {},
   "outputs": [
    {
     "name": "stderr",
     "output_type": "stream",
     "text": [
      "2024-11-02 00:03:14,204 INFO     pid:74999 nb:004:run Running: training.SegmentationTrainingApp(['--num-workers=4', '--epochs=2', '--augmented', 'final-seg']).main()\n",
      "2024-11-02 00:03:14,260 INFO     pid:74999 training:158:initModel Using CUDA; 1 devices.\n",
      "2024-11-02 00:03:14,534 INFO     pid:74999 training:223:main Starting SegmentationTrainingApp, Namespace(batch_size=16, num_workers=4, epochs=2, augmented=True, augment_flip=False, augment_offset=False, augment_scale=False, augment_rotate=False, augment_noise=False, tb_prefix='p2ch13', comment='final-seg')\n",
      "2024-11-02 00:03:16,144 INFO     pid:74999 dsets:312:__init__ <dsets.TrainingLuna2dSegmentationDataset object at 0x7e6910159050>: 80 training series, 890 slices, 101 nodules\n",
      "2024-11-02 00:03:16,147 INFO     pid:74999 dsets:312:__init__ <dsets.Luna2dSegmentationDataset object at 0x7e690b2350d0>: 9 validation series, 81 slices, 11 nodules\n",
      "2024-11-02 00:03:16,147 INFO     pid:74999 training:231:main Epoch 1 of 2, 18750/6 batches of size 16*1\n",
      "2024-11-02 00:03:16,158 WARNING  pid:74999 util:219:enumerateWithEstimate E1 Training ----/18750, starting\n",
      "2024-11-02 00:03:17,076 INFO     pid:74999 util:236:enumerateWithEstimate E1 Training   32/18750, done at 2024-11-02 00:06:13, 0:02:56\n",
      "2024-11-02 00:03:19,207 INFO     pid:74999 util:236:enumerateWithEstimate E1 Training  256/18750, done at 2024-11-02 00:06:15, 0:02:58\n",
      "2024-11-02 00:03:36,364 INFO     pid:74999 util:236:enumerateWithEstimate E1 Training 2048/18750, done at 2024-11-02 00:06:16, 0:02:59\n",
      "2024-11-02 00:05:55,167 INFO     pid:74999 util:236:enumerateWithEstimate E1 Training 16384/18750, done at 2024-11-02 00:06:18, 0:03:01\n",
      "2024-11-02 00:06:18,755 WARNING  pid:74999 util:249:enumerateWithEstimate E1 Training ----/18750, done at 2024-11-02 00:06:18\n",
      "2024-11-02 00:06:18,759 INFO     pid:74999 training:419:logMetrics E1 SegmentationTrainingApp\n",
      "2024-11-02 00:06:18,763 INFO     pid:74999 training:456:logMetrics E1 trn      0.3565 loss, 0.3532 precision, 0.9453 recall, 0.5142 f1 score\n",
      "2024-11-02 00:06:18,763 INFO     pid:74999 training:469:logMetrics E1 trn_all  0.3565 loss,  94.5% tp,   5.5% fn,     173.1% fp\n",
      "2024-11-02 00:06:18,765 WARNING  pid:74999 util:219:enumerateWithEstimate E1 Validation  ----/6, starting\n",
      "2024-11-02 00:06:20,655 WARNING  pid:74999 util:249:enumerateWithEstimate E1 Validation  ----/6, done at 2024-11-02 00:06:20\n",
      "2024-11-02 00:06:20,907 INFO     pid:74999 training:419:logMetrics E1 SegmentationTrainingApp\n",
      "2024-11-02 00:06:20,908 INFO     pid:74999 training:456:logMetrics E1 val      0.9611 loss, 0.0167 precision, 0.6354 recall, 0.0326 f1 score\n",
      "2024-11-02 00:06:20,908 INFO     pid:74999 training:469:logMetrics E1 val_all  0.9611 loss,  63.5% tp,  36.5% fn,    3732.3% fp\n",
      "2024-11-02 00:06:20,916 INFO     pid:74999 training:550:saveModel Saved model params to data-unversioned/part2/models/p2ch13/seg_2024-11-02_00.03.14_final-seg.300000.state\n",
      "2024-11-02 00:06:20,917 INFO     pid:74999 training:562:saveModel Saved model params to data-unversioned/part2/models/p2ch13/seg_2024-11-02_00.03.14_final-seg.best.state\n",
      "2024-11-02 00:06:20,918 INFO     pid:74999 training:565:saveModel SHA1: 0abfdedec2573aeca6334f2a811aba5ff8f748ad\n",
      "2024-11-02 00:06:36,794 INFO     pid:74999 training:231:main Epoch 2 of 2, 18750/6 batches of size 16*1\n",
      "2024-11-02 00:06:36,805 WARNING  pid:74999 util:219:enumerateWithEstimate E2 Training ----/18750, starting\n",
      "2024-11-02 00:06:37,229 INFO     pid:74999 util:236:enumerateWithEstimate E2 Training   32/18750, done at 2024-11-02 00:09:36, 0:02:59\n",
      "2024-11-02 00:06:39,391 INFO     pid:74999 util:236:enumerateWithEstimate E2 Training  256/18750, done at 2024-11-02 00:09:37, 0:03:00\n",
      "2024-11-02 00:06:56,820 INFO     pid:74999 util:236:enumerateWithEstimate E2 Training 2048/18750, done at 2024-11-02 00:09:39, 0:03:02\n"
     ]
    }
   ],
   "source": [
    "run(\n",
    "    \"training.SegmentationTrainingApp\",\n",
    "    f\"--epochs={seg_epochs}\",\n",
    "    \"--augmented\",\n",
    "    \"final-seg\",\n",
    ")"
   ]
  }
 ],
 "metadata": {
  "kernelspec": {
   "display_name": "base",
   "language": "python",
   "name": "python3"
  },
  "language_info": {
   "codemirror_mode": {
    "name": "ipython",
    "version": 3
   },
   "file_extension": ".py",
   "mimetype": "text/x-python",
   "name": "python",
   "nbconvert_exporter": "python",
   "pygments_lexer": "ipython3",
   "version": "3.11.5"
  }
 },
 "nbformat": 4,
 "nbformat_minor": 2
}
