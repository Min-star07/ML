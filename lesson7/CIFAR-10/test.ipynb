{
 "cells": [
  {
   "cell_type": "code",
   "execution_count": 10,
   "metadata": {},
   "outputs": [
    {
     "name": "stdout",
     "output_type": "stream",
     "text": [
      "tensor([[0.1000, 0.4000, 0.1000],\n",
      "        [0.2000, 0.3000, 0.5000],\n",
      "        [0.2000, 0.3000, 0.5000]])\n",
      "tensor([1, 2, 2])\n",
      "3\n"
     ]
    }
   ],
   "source": [
    "import torch\n",
    "\n",
    "outputs = torch.tensor([[0.1, 0.4, 0.1], [0.2, 0.3, 0.5], [0.2, 0.3, 0.5]])\n",
    "print(outputs)\n",
    "\n",
    "_, predicted = torch.max(outputs.data, dim=1)\n",
    "\n",
    "target = torch.tensor([1, 2, 2])\n",
    "print(predicted)\n",
    "\n",
    "print((predicted == target).sum().item())"
   ]
  }
 ],
 "metadata": {
  "kernelspec": {
   "display_name": "base",
   "language": "python",
   "name": "python3"
  },
  "language_info": {
   "codemirror_mode": {
    "name": "ipython",
    "version": 3
   },
   "file_extension": ".py",
   "mimetype": "text/x-python",
   "name": "python",
   "nbconvert_exporter": "python",
   "pygments_lexer": "ipython3",
   "version": "3.11.5"
  }
 },
 "nbformat": 4,
 "nbformat_minor": 2
}
