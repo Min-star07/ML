{
 "cells": [
  {
   "cell_type": "code",
   "execution_count": 6,
   "metadata": {},
   "outputs": [
    {
     "name": "stdout",
     "output_type": "stream",
     "text": [
      "Buddy\n",
      "Golden Retriever\n",
      "5\n",
      "Buddy says woof\n",
      "Buddy is 35 dog years old.\n"
     ]
    }
   ],
   "source": [
    "# Create an instance of the Dog class\n",
    "class Dog:\n",
    "    def __init__(self, name, breed, age) -> None:\n",
    "        self.name = name\n",
    "        self.breed = breed\n",
    "        self.age = age\n",
    "\n",
    "    def bark(self):\n",
    "        return f\"{self.name} says woof\"\n",
    "\n",
    "    def age_in_dog_years(self):\n",
    "        return self.age * 7\n",
    "\n",
    "\n",
    "# Create an instance of the dog\n",
    "my_dog = Dog(name=\"Buddy\", breed=\"Golden Retriever\", age=5)\n",
    "# Access the attributes\n",
    "print(my_dog.name)\n",
    "print(my_dog.breed)\n",
    "print(my_dog.age)\n",
    "# Call the bark method\n",
    "print(my_dog.bark())  # Output: Buddy says woof!\n",
    "# Call the new method\n",
    "print(f\"{my_dog.name} is {my_dog.age_in_dog_years()} dog years old.\")"
   ]
  },
  {
   "cell_type": "code",
   "execution_count": 14,
   "metadata": {},
   "outputs": [
    {
     "name": "stdout",
     "output_type": "stream",
     "text": [
      "pup\n",
      "keji\n",
      "5\n",
      "pup is training at level 5.\n",
      "pup says woof\n",
      "pup is training at level 5.\n"
     ]
    }
   ],
   "source": [
    "# Inheritance in Classes\n",
    "class Puppy(Dog):\n",
    "    def __init__(self, name, breed, age, training_level) -> None:\n",
    "        super().__init__(name, breed, age)\n",
    "        self.training_level = training_level\n",
    "\n",
    "    def train(self):\n",
    "        return f\"{self.name} is training at level {self.training_level}.\"\n",
    "\n",
    "\n",
    "model = Puppy(\"pup\", \"keji\", 5, 5)\n",
    "\n",
    "print(model.name)\n",
    "print(model.breed)\n",
    "print(model.age)\n",
    "\n",
    "print(model.train())\n",
    "\n",
    "# Access inherited attributes and methods\n",
    "print(model.bark())  # Output: Charlie says woof!\n",
    "\n",
    "# Use the new method\n",
    "print(model.train())  # Output: Charlie is training at level Beginner."
   ]
  },
  {
   "cell_type": "code",
   "execution_count": 16,
   "metadata": {},
   "outputs": [
    {
     "name": "stdout",
     "output_type": "stream",
     "text": [
      "Buddy\n",
      "Max\n",
      "5\n"
     ]
    }
   ],
   "source": [
    "# Encapsulation\n",
    "class Dog:\n",
    "    def __init__(self, name, breed, age):\n",
    "        self.__name = name  # Private attribute\n",
    "        self.breed = breed\n",
    "        self.age = age\n",
    "\n",
    "    def get_name(self):\n",
    "        return self.__name\n",
    "\n",
    "    def set_name(self, name):\n",
    "        self.__name = name\n",
    "\n",
    "\n",
    "# Create an instance\n",
    "my_dog = Dog(name=\"Buddy\", breed=\"Golden Retriever\", age=5)\n",
    "\n",
    "# Accessing the private attribute through getter method\n",
    "print(my_dog.get_name())  # Output: Buddy\n",
    "\n",
    "# Modifying the private attribute through setter method\n",
    "my_dog.set_name(\"Max\")\n",
    "print(my_dog.get_name())  # Output: Max\n",
    "\n",
    "print(my_dog.age)\n",
    "# print(my_dog.___name)"
   ]
  },
  {
   "cell_type": "code",
   "execution_count": 17,
   "metadata": {},
   "outputs": [
    {
     "name": "stdout",
     "output_type": "stream",
     "text": [
      "Meow!\n",
      "Woof!\n"
     ]
    }
   ],
   "source": [
    "# Classes are blueprints for creating objects. They contain attributes (data) and methods (functions).\n",
    "# Objects are instances of classes.\n",
    "# Inheritance allows one class to inherit attributes and methods from another.\n",
    "# Encapsulation restricts access to certain parts of an object to protect its integrity.\n",
    "# Polymorphism allows different classes to be used interchangeably through a common interface.\n",
    "class Cat:\n",
    "    def speak(self):\n",
    "        return \"Meow!\"\n",
    "\n",
    "\n",
    "class Dog:\n",
    "    def speak(self):\n",
    "        return \"Woof!\"\n",
    "\n",
    "\n",
    "# Function that takes an object and calls its speak method\n",
    "def animal_sound(animal):\n",
    "    print(animal.speak())\n",
    "\n",
    "\n",
    "# Using polymorphism\n",
    "my_cat = Cat()\n",
    "my_dog = Dog()\n",
    "\n",
    "animal_sound(my_cat)  # Output: Meow!\n",
    "animal_sound(my_dog)  # Output: Woof!"
   ]
  }
 ],
 "metadata": {
  "kernelspec": {
   "display_name": "base",
   "language": "python",
   "name": "python3"
  },
  "language_info": {
   "codemirror_mode": {
    "name": "ipython",
    "version": 3
   },
   "file_extension": ".py",
   "mimetype": "text/x-python",
   "name": "python",
   "nbconvert_exporter": "python",
   "pygments_lexer": "ipython3",
   "version": "3.11.5"
  }
 },
 "nbformat": 4,
 "nbformat_minor": 2
}
