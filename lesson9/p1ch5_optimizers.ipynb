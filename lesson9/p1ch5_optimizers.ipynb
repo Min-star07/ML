{
 "cells": [
  {
   "cell_type": "code",
   "execution_count": 1,
   "metadata": {},
   "outputs": [],
   "source": [
    "import torch\n",
    "import numpy as np"
   ]
  },
  {
   "cell_type": "code",
   "execution_count": 2,
   "metadata": {},
   "outputs": [],
   "source": [
    "t_c = torch.tensor([0.5, 14.0, 15.0, 28.0, 11.0, 8.0, 3.0, -4.0, 6.0, 13.0, 21.0])\n",
    "t_u = torch.tensor([35.7, 55.9, 58.2, 81.9, 56.3, 48.9, 33.9, 21.8, 48.4, 60.4, 68.4])\n",
    "t_un = 0.1 * t_u"
   ]
  },
  {
   "cell_type": "code",
   "execution_count": 3,
   "metadata": {},
   "outputs": [],
   "source": [
    "def model(t_u, w, b):\n",
    "    return w * t_u + b"
   ]
  },
  {
   "cell_type": "code",
   "execution_count": 4,
   "metadata": {},
   "outputs": [],
   "source": [
    "def loss_fn(t_p, t_c):\n",
    "    squared_diffs = (t_p - t_c) ** 2\n",
    "    return squared_diffs.mean()"
   ]
  },
  {
   "cell_type": "code",
   "execution_count": 5,
   "metadata": {},
   "outputs": [
    {
     "data": {
      "text/plain": [
       "['ASGD',\n",
       " 'Adadelta',\n",
       " 'Adagrad',\n",
       " 'Adam',\n",
       " 'AdamW',\n",
       " 'Adamax',\n",
       " 'LBFGS',\n",
       " 'NAdam',\n",
       " 'Optimizer',\n",
       " 'RAdam',\n",
       " 'RMSprop',\n",
       " 'Rprop',\n",
       " 'SGD',\n",
       " 'SparseAdam',\n",
       " '__builtins__',\n",
       " '__cached__',\n",
       " '__doc__',\n",
       " '__file__',\n",
       " '__loader__',\n",
       " '__name__',\n",
       " '__package__',\n",
       " '__path__',\n",
       " '__spec__',\n",
       " '_functional',\n",
       " '_multi_tensor',\n",
       " 'lr_scheduler',\n",
       " 'swa_utils']"
      ]
     },
     "execution_count": 5,
     "metadata": {},
     "output_type": "execute_result"
    }
   ],
   "source": [
    "import torch.optim as optim\n",
    "\n",
    "dir(optim)"
   ]
  },
  {
   "cell_type": "code",
   "execution_count": 13,
   "metadata": {},
   "outputs": [
    {
     "name": "stdout",
     "output_type": "stream",
     "text": [
      "tensor([1., 0.], requires_grad=True)\n"
     ]
    },
    {
     "data": {
      "text/plain": [
       "tensor([1., 0.], requires_grad=True)"
      ]
     },
     "execution_count": 13,
     "metadata": {},
     "output_type": "execute_result"
    }
   ],
   "source": [
    "params = torch.tensor([1.0, 0.0], requires_grad=True)\n",
    "learning_rate = 1e-5\n",
    "optimizer = optim.SGD([params], lr=learning_rate)\n",
    "print(params)\n",
    "a = [params]\n",
    "a[0]"
   ]
  },
  {
   "cell_type": "code",
   "execution_count": 15,
   "metadata": {},
   "outputs": [
    {
     "data": {
      "text/plain": [
       "tensor([ 0.9097, -0.0017], requires_grad=True)"
      ]
     },
     "execution_count": 15,
     "metadata": {},
     "output_type": "execute_result"
    }
   ],
   "source": [
    "t_p = model(t_u, *params)\n",
    "loss = loss_fn(t_p, t_c)\n",
    "loss.backward()\n",
    "optimizer.step()\n",
    "params"
   ]
  },
  {
   "cell_type": "code",
   "execution_count": 18,
   "metadata": {},
   "outputs": [
    {
     "data": {
      "text/plain": [
       "tensor([-44.1730,  -0.8260], requires_grad=True)"
      ]
     },
     "execution_count": 18,
     "metadata": {},
     "output_type": "execute_result"
    }
   ],
   "source": [
    "params = torch.tensor([1.0, 0.0], requires_grad=True)\n",
    "learning_rate = 1e-2\n",
    "optimizer = optim.SGD([params], lr=learning_rate)\n",
    "t_p = model(t_u, *params)\n",
    "loss = loss_fn(t_p, t_c)\n",
    "optimizer.zero_grad()\n",
    "loss.backward()\n",
    "\n",
    "optimizer.step()\n",
    "params"
   ]
  },
  {
   "cell_type": "code",
   "execution_count": 24,
   "metadata": {},
   "outputs": [],
   "source": [
    "def training_loop(epochs, optimizer, t_u, t_c, params):\n",
    "    for epoch in range(epochs):\n",
    "        t_p = model(t_u, *params)\n",
    "        loss = loss_fn(t_p, t_c)\n",
    "        optimizer.zero_grad()\n",
    "        loss.backward()\n",
    "        optimizer.step()\n",
    "\n",
    "        if epoch % 500 == 0:\n",
    "            print(\"Epoch %d, Loss %f\" % (epoch, float(loss)))\n",
    "    return params"
   ]
  },
  {
   "cell_type": "code",
   "execution_count": 25,
   "metadata": {},
   "outputs": [
    {
     "name": "stdout",
     "output_type": "stream",
     "text": [
      "Epoch 0, Loss 80.364342\n",
      "Epoch 500, Loss 7.843377\n",
      "Epoch 1000, Loss 3.825483\n",
      "Epoch 1500, Loss 3.091630\n",
      "Epoch 2000, Loss 2.957596\n",
      "Epoch 2500, Loss 2.933116\n",
      "Epoch 3000, Loss 2.928646\n",
      "Epoch 3500, Loss 2.927829\n",
      "Epoch 4000, Loss 2.927679\n",
      "Epoch 4500, Loss 2.927652\n"
     ]
    },
    {
     "data": {
      "text/plain": [
       "tensor([  5.3671, -17.3012], requires_grad=True)"
      ]
     },
     "execution_count": 25,
     "metadata": {},
     "output_type": "execute_result"
    }
   ],
   "source": [
    "params = torch.tensor([1.0, 0.0], requires_grad=True)\n",
    "learning_rate = 1.0e-2\n",
    "optimizer = optim.SGD([params], lr=learning_rate)\n",
    "training_loop(epochs=5000, optimizer=optimizer, params=params, t_u=t_un, t_c=t_c)  # <1>"
   ]
  },
  {
   "cell_type": "code",
   "execution_count": 27,
   "metadata": {},
   "outputs": [
    {
     "name": "stdout",
     "output_type": "stream",
     "text": [
      "Epoch 0, Loss 1763.884766\n",
      "Epoch 500, Loss 7.588875\n",
      "Epoch 1000, Loss 3.085365\n",
      "Epoch 1500, Loss 2.928568\n"
     ]
    },
    {
     "data": {
      "text/plain": [
       "tensor([  0.5367, -17.3021], requires_grad=True)"
      ]
     },
     "execution_count": 27,
     "metadata": {},
     "output_type": "execute_result"
    }
   ],
   "source": [
    "params = torch.tensor([1.0, 0.0], requires_grad=True)\n",
    "learning_rate = 1e-1\n",
    "optimizer = optim.Adam([params], lr=learning_rate)  # <1>\n",
    "\n",
    "training_loop(epochs=2000, optimizer=optimizer, params=params, t_u=t_u, t_c=t_c)  # <2>"
   ]
  },
  {
   "cell_type": "code",
   "execution_count": 43,
   "metadata": {},
   "outputs": [
    {
     "data": {
      "text/plain": [
       "(tensor([3.3900, 5.8200, 6.8400, 2.1800, 5.6300, 4.8900, 5.5900, 8.1900, 6.0400]),\n",
       " tensor([3.5700, 4.8400]))"
      ]
     },
     "execution_count": 43,
     "metadata": {},
     "output_type": "execute_result"
    }
   ],
   "source": [
    "n_samples = t_u.shape[0]\n",
    "\n",
    "val_test_samples = int(0.2 * n_samples)\n",
    "\n",
    "shuffled_index = torch.randperm(n_samples)\n",
    "n_samples, val_test_samples, shuffled_index\n",
    "\n",
    "train_test = t_u[shuffled_index[:-val_test_samples]]\n",
    "val_test = t_u[shuffled_index[-val_test_samples:]]\n",
    "t_c_train = t_c[shuffled_index[:-val_test_samples]]\n",
    "t_c_val = t_c[shuffled_index[-val_test_samples:]]\n",
    "train_test, val_test\n",
    "train_test = 0.1 * train_test\n",
    "val_test = 0.1 * val_test\n",
    "train_test, val_test"
   ]
  },
  {
   "cell_type": "code",
   "execution_count": 52,
   "metadata": {},
   "outputs": [],
   "source": [
    "def training_loop(epochs, params, train_dataset, test_dataset, t_c, optimizer):\n",
    "    for epoch in range(epochs):\n",
    "        t_p = model(train_dataset, *params)\n",
    "        loss = loss_fn(t_p, t_c_train)\n",
    "        with torch.no_grad():\n",
    "            t_p_test = model(test_dataset, *params)\n",
    "            loss_test = loss_fn(t_p_test, t_c_val)\n",
    "            assert loss_test.requires_grad == False  # <2>\n",
    "            if epoch % 500 == 0:\n",
    "                print(\n",
    "                    f\"epoch : {epoch}, train loss : {loss.item()}, test loss :{loss_test.item()}\"\n",
    "                )\n",
    "        optimizer.zero_grad()\n",
    "        loss.backward()\n",
    "        optimizer.step()\n",
    "    return params"
   ]
  },
  {
   "cell_type": "code",
   "execution_count": 53,
   "metadata": {},
   "outputs": [
    {
     "name": "stdout",
     "output_type": "stream",
     "text": [
      "epoch : 0, train loss : 97.02635955810547, test loss :5.385250091552734\n",
      "epoch : 500, train loss : 6.512426376342773, test loss :21.57388687133789\n",
      "epoch : 1000, train loss : 3.0708529949188232, test loss :12.303930282592773\n",
      "epoch : 1500, train loss : 2.446415424346924, test loss :9.25805950164795\n",
      "epoch : 2000, train loss : 2.3331196308135986, test loss :8.124459266662598\n",
      "epoch : 2500, train loss : 2.3125622272491455, test loss :7.671308994293213\n",
      "epoch : 3000, train loss : 2.308833599090576, test loss :7.483676910400391\n",
      "epoch : 3500, train loss : 2.308157205581665, test loss :7.404728412628174\n",
      "epoch : 4000, train loss : 2.3080332279205322, test loss :7.371284484863281\n",
      "epoch : 4500, train loss : 2.308011054992676, test loss :7.357072830200195\n"
     ]
    },
    {
     "data": {
      "text/plain": [
       "tensor([  5.2097, -16.0034], requires_grad=True)"
      ]
     },
     "execution_count": 53,
     "metadata": {},
     "output_type": "execute_result"
    }
   ],
   "source": [
    "params = torch.tensor([1.0, 0.0], requires_grad=True)\n",
    "learning_rate = 1e-2\n",
    "optimizer = optim.SGD([params], lr=learning_rate)\n",
    "\n",
    "training_loop(\n",
    "    epochs=5000,\n",
    "    params=params,\n",
    "    train_dataset=train_test,\n",
    "    test_dataset=val_test,\n",
    "    optimizer=optimizer,\n",
    "    t_c=t_c,\n",
    ")"
   ]
  }
 ],
 "metadata": {
  "kernelspec": {
   "display_name": "base",
   "language": "python",
   "name": "python3"
  },
  "language_info": {
   "codemirror_mode": {
    "name": "ipython",
    "version": 3
   },
   "file_extension": ".py",
   "mimetype": "text/x-python",
   "name": "python",
   "nbconvert_exporter": "python",
   "pygments_lexer": "ipython3",
   "version": "3.11.5"
  }
 },
 "nbformat": 4,
 "nbformat_minor": 2
}
