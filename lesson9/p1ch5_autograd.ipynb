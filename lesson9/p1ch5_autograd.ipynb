{
 "cells": [
  {
   "cell_type": "code",
   "execution_count": 1,
   "metadata": {},
   "outputs": [],
   "source": [
    "import torch\n",
    "import numpy as np"
   ]
  },
  {
   "cell_type": "code",
   "execution_count": 2,
   "metadata": {},
   "outputs": [],
   "source": [
    "t_c = torch.tensor([0.5, 14.0, 15.0, 28.0, 11.0, 8.0, 3.0, -4.0, 6.0, 13.0, 21.0])\n",
    "t_u = torch.tensor([35.7, 55.9, 58.2, 81.9, 56.3, 48.9, 33.9, 21.8, 48.4, 60.4, 68.4])\n",
    "t_un = 0.1 * t_u"
   ]
  },
  {
   "cell_type": "code",
   "execution_count": 3,
   "metadata": {},
   "outputs": [],
   "source": [
    "def model(t_u, w, b):\n",
    "    return t_u * w + b"
   ]
  },
  {
   "cell_type": "code",
   "execution_count": 7,
   "metadata": {},
   "outputs": [],
   "source": [
    "def loss_fn(t_p, t_c):\n",
    "    dsq = (t_p - t_c) ** 2\n",
    "    return dsq.mean()"
   ]
  },
  {
   "cell_type": "code",
   "execution_count": 10,
   "metadata": {},
   "outputs": [],
   "source": [
    "params = torch.tensor([1.0, 0], requires_grad=True)"
   ]
  },
  {
   "cell_type": "code",
   "execution_count": 11,
   "metadata": {},
   "outputs": [
    {
     "data": {
      "text/plain": [
       "True"
      ]
     },
     "execution_count": 11,
     "metadata": {},
     "output_type": "execute_result"
    }
   ],
   "source": [
    "params.grad is None"
   ]
  },
  {
   "cell_type": "code",
   "execution_count": 13,
   "metadata": {},
   "outputs": [
    {
     "data": {
      "text/plain": [
       "tensor([9034.5938,  165.2000])"
      ]
     },
     "execution_count": 13,
     "metadata": {},
     "output_type": "execute_result"
    }
   ],
   "source": [
    "loss = loss_fn(model(t_u, *params), t_c)\n",
    "loss.backward()\n",
    "params.grad"
   ]
  },
  {
   "cell_type": "code",
   "execution_count": 15,
   "metadata": {},
   "outputs": [],
   "source": [
    "if params.grad is not None:\n",
    "    params.grad.zero_()"
   ]
  },
  {
   "cell_type": "code",
   "execution_count": 16,
   "metadata": {},
   "outputs": [],
   "source": [
    "def training_loop(epochs, t_u, t_c, params, learning_rate):\n",
    "    for epoch in range(epochs):\n",
    "        if params.grad is not None:\n",
    "            params.grad.zero_()\n",
    "        t_p = model(t_u, *params)\n",
    "        loss = loss_fn(t_p, t_c)\n",
    "        loss.backward()\n",
    "        with torch.no_grad():\n",
    "            params -= learning_rate * params.grad\n",
    "\n",
    "        print(f\"epoch : {epoch}, loss : {loss.item()}\")\n",
    "    return params"
   ]
  },
  {
   "cell_type": "code",
   "execution_count": 19,
   "metadata": {},
   "outputs": [
    {
     "name": "stdout",
     "output_type": "stream",
     "text": [
      "epoch : 0, loss : 80.36434173583984\n",
      "epoch : 1, loss : 37.574913024902344\n",
      "epoch : 2, loss : 30.871076583862305\n",
      "epoch : 3, loss : 29.756193161010742\n",
      "epoch : 4, loss : 29.507152557373047\n",
      "epoch : 5, loss : 29.3924560546875\n",
      "epoch : 6, loss : 29.298828125\n",
      "epoch : 7, loss : 29.208717346191406\n",
      "epoch : 8, loss : 29.119415283203125\n",
      "epoch : 9, loss : 29.030488967895508\n",
      "epoch : 10, loss : 28.941877365112305\n",
      "epoch : 11, loss : 28.853565216064453\n",
      "epoch : 12, loss : 28.765552520751953\n",
      "epoch : 13, loss : 28.6778507232666\n",
      "epoch : 14, loss : 28.590431213378906\n",
      "epoch : 15, loss : 28.503318786621094\n",
      "epoch : 16, loss : 28.4164981842041\n",
      "epoch : 17, loss : 28.329973220825195\n",
      "epoch : 18, loss : 28.243741989135742\n",
      "epoch : 19, loss : 28.157804489135742\n",
      "epoch : 20, loss : 28.07215118408203\n",
      "epoch : 21, loss : 27.986797332763672\n",
      "epoch : 22, loss : 27.9017276763916\n",
      "epoch : 23, loss : 27.81694984436035\n",
      "epoch : 24, loss : 27.732463836669922\n",
      "epoch : 25, loss : 27.648256301879883\n",
      "epoch : 26, loss : 27.56434440612793\n",
      "epoch : 27, loss : 27.4807071685791\n",
      "epoch : 28, loss : 27.397361755371094\n",
      "epoch : 29, loss : 27.314294815063477\n",
      "epoch : 30, loss : 27.23151206970215\n",
      "epoch : 31, loss : 27.149009704589844\n",
      "epoch : 32, loss : 27.066789627075195\n",
      "epoch : 33, loss : 26.984844207763672\n",
      "epoch : 34, loss : 26.903175354003906\n",
      "epoch : 35, loss : 26.82179069519043\n",
      "epoch : 36, loss : 26.740678787231445\n",
      "epoch : 37, loss : 26.65983772277832\n",
      "epoch : 38, loss : 26.57927703857422\n",
      "epoch : 39, loss : 26.498987197875977\n",
      "epoch : 40, loss : 26.418970108032227\n",
      "epoch : 41, loss : 26.3392276763916\n",
      "epoch : 42, loss : 26.259754180908203\n",
      "epoch : 43, loss : 26.180553436279297\n",
      "epoch : 44, loss : 26.10161590576172\n",
      "epoch : 45, loss : 26.0229434967041\n",
      "epoch : 46, loss : 25.944549560546875\n",
      "epoch : 47, loss : 25.866416931152344\n",
      "epoch : 48, loss : 25.788545608520508\n",
      "epoch : 49, loss : 25.7109375\n",
      "epoch : 50, loss : 25.63360023498535\n",
      "epoch : 51, loss : 25.5565242767334\n",
      "epoch : 52, loss : 25.479700088500977\n",
      "epoch : 53, loss : 25.40314483642578\n",
      "epoch : 54, loss : 25.32684898376465\n",
      "epoch : 55, loss : 25.250810623168945\n",
      "epoch : 56, loss : 25.17503547668457\n",
      "epoch : 57, loss : 25.099510192871094\n",
      "epoch : 58, loss : 25.024248123168945\n",
      "epoch : 59, loss : 24.949235916137695\n",
      "epoch : 60, loss : 24.874481201171875\n",
      "epoch : 61, loss : 24.799976348876953\n",
      "epoch : 62, loss : 24.725736618041992\n",
      "epoch : 63, loss : 24.6517391204834\n",
      "epoch : 64, loss : 24.577991485595703\n",
      "epoch : 65, loss : 24.504493713378906\n",
      "epoch : 66, loss : 24.431251525878906\n",
      "epoch : 67, loss : 24.358257293701172\n",
      "epoch : 68, loss : 24.285503387451172\n",
      "epoch : 69, loss : 24.212995529174805\n",
      "epoch : 70, loss : 24.1407470703125\n",
      "epoch : 71, loss : 24.06873321533203\n",
      "epoch : 72, loss : 23.996967315673828\n",
      "epoch : 73, loss : 23.925445556640625\n",
      "epoch : 74, loss : 23.854167938232422\n",
      "epoch : 75, loss : 23.783124923706055\n",
      "epoch : 76, loss : 23.71232795715332\n",
      "epoch : 77, loss : 23.64177131652832\n",
      "epoch : 78, loss : 23.571455001831055\n",
      "epoch : 79, loss : 23.501379013061523\n",
      "epoch : 80, loss : 23.431535720825195\n",
      "epoch : 81, loss : 23.3619327545166\n",
      "epoch : 82, loss : 23.292570114135742\n",
      "epoch : 83, loss : 23.223438262939453\n",
      "epoch : 84, loss : 23.154539108276367\n",
      "epoch : 85, loss : 23.08588218688965\n",
      "epoch : 86, loss : 23.017446517944336\n",
      "epoch : 87, loss : 22.949249267578125\n",
      "epoch : 88, loss : 22.88128089904785\n",
      "epoch : 89, loss : 22.813547134399414\n",
      "epoch : 90, loss : 22.746044158935547\n",
      "epoch : 91, loss : 22.67876625061035\n",
      "epoch : 92, loss : 22.61172103881836\n",
      "epoch : 93, loss : 22.544898986816406\n",
      "epoch : 94, loss : 22.47830581665039\n",
      "epoch : 95, loss : 22.411937713623047\n",
      "epoch : 96, loss : 22.345792770385742\n",
      "epoch : 97, loss : 22.279874801635742\n",
      "epoch : 98, loss : 22.21418571472168\n",
      "epoch : 99, loss : 22.148710250854492\n"
     ]
    },
    {
     "data": {
      "text/plain": [
       "tensor([ 2.7553, -2.5162], requires_grad=True)"
      ]
     },
     "execution_count": 19,
     "metadata": {},
     "output_type": "execute_result"
    }
   ],
   "source": [
    "training_loop(\n",
    "    epochs=100,\n",
    "    t_u=t_un,\n",
    "    t_c=t_c,\n",
    "    params=torch.tensor([1.0, 0.0], requires_grad=True),\n",
    "    learning_rate=1e-2,\n",
    ")"
   ]
  }
 ],
 "metadata": {
  "kernelspec": {
   "display_name": "base",
   "language": "python",
   "name": "python3"
  },
  "language_info": {
   "codemirror_mode": {
    "name": "ipython",
    "version": 3
   },
   "file_extension": ".py",
   "mimetype": "text/x-python",
   "name": "python",
   "nbconvert_exporter": "python",
   "pygments_lexer": "ipython3",
   "version": "3.11.5"
  }
 },
 "nbformat": 4,
 "nbformat_minor": 2
}
