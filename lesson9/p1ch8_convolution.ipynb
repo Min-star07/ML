{
 "cells": [
  {
   "cell_type": "code",
   "execution_count": 2,
   "metadata": {},
   "outputs": [
    {
     "data": {
      "text/plain": [
       "<torch._C.Generator at 0x73b01e5c1d10>"
      ]
     },
     "execution_count": 2,
     "metadata": {},
     "output_type": "execute_result"
    }
   ],
   "source": [
    "from matplotlib import pyplot as plt\n",
    "import numpy as np\n",
    "import collections\n",
    "\n",
    "import torch\n",
    "import torch.nn as nn\n",
    "import torch.nn.functional as F\n",
    "import torch.optim as optim\n",
    "\n",
    "torch.set_printoptions(edgeitems=2)\n",
    "torch.manual_seed(123)"
   ]
  },
  {
   "cell_type": "code",
   "execution_count": 3,
   "metadata": {},
   "outputs": [],
   "source": [
    "class_names = [\n",
    "    \"airplane\",\n",
    "    \"automobile\",\n",
    "    \"bird\",\n",
    "    \"cat\",\n",
    "    \"deer\",\n",
    "    \"dog\",\n",
    "    \"frog\",\n",
    "    \"horse\",\n",
    "    \"ship\",\n",
    "    \"truck\",\n",
    "]"
   ]
  },
  {
   "cell_type": "code",
   "execution_count": 4,
   "metadata": {},
   "outputs": [
    {
     "name": "stdout",
     "output_type": "stream",
     "text": [
      "Files already downloaded and verified\n"
     ]
    }
   ],
   "source": [
    "from torchvision import datasets, transforms\n",
    "\n",
    "data_path = \"../lesson3/dataset\"\n",
    "\n",
    "cifar10_train = datasets.CIFAR10(\n",
    "    data_path,\n",
    "    download=True,\n",
    "    train=True,\n",
    "    transform=transforms.Compose(\n",
    "        [\n",
    "            transforms.ToTensor(),\n",
    "            transforms.Normalize([0.4915, 0.4823, 0.4468], [0.2470, 0.2435, 0.2616]),\n",
    "        ]\n",
    "    ),\n",
    ")"
   ]
  },
  {
   "cell_type": "code",
   "execution_count": 5,
   "metadata": {},
   "outputs": [
    {
     "name": "stdout",
     "output_type": "stream",
     "text": [
      "Files already downloaded and verified\n"
     ]
    }
   ],
   "source": [
    "data_path = \"../lesson3/dataset\"\n",
    "\n",
    "cifar10_test = datasets.CIFAR10(\n",
    "    data_path,\n",
    "    download=True,\n",
    "    train=False,\n",
    "    transform=transforms.Compose(\n",
    "        [\n",
    "            transforms.ToTensor(),\n",
    "            transforms.Normalize([0.4915, 0.4823, 0.4468], [0.2470, 0.2435, 0.2616]),\n",
    "        ]\n",
    "    ),\n",
    ")"
   ]
  },
  {
   "cell_type": "code",
   "execution_count": 6,
   "metadata": {},
   "outputs": [
    {
     "data": {
      "text/plain": [
       "(50000, 10000)"
      ]
     },
     "execution_count": 6,
     "metadata": {},
     "output_type": "execute_result"
    }
   ],
   "source": [
    "len(cifar10_train), len(cifar10_test)"
   ]
  },
  {
   "cell_type": "code",
   "execution_count": 7,
   "metadata": {},
   "outputs": [
    {
     "data": {
      "text/plain": [
       "(tensor([[[ 0.5187,  0.5345,  ...,  0.0106, -0.1482],\n",
       "          [ 0.4234,  0.4075,  ..., -0.0053, -0.1005],\n",
       "          ...,\n",
       "          [-1.0214, -1.2119,  ..., -1.5295, -1.6723],\n",
       "          [-1.1325, -1.1008,  ..., -1.4501, -1.6565]],\n",
       " \n",
       "         [[-0.1769, -0.1930,  ..., -0.5151, -0.6118],\n",
       "          [-0.1769, -0.2091,  ..., -0.5151, -0.5635],\n",
       "          ...,\n",
       "          [-0.1125, -0.3380,  ..., -0.6601, -0.9500],\n",
       "          [-0.2575, -0.2897,  ..., -0.6279, -0.9017]],\n",
       " \n",
       "         [[-0.9734, -1.0034,  ..., -1.1683, -1.2133],\n",
       "          [-0.9434, -1.1083,  ..., -1.2282, -1.1983],\n",
       "          ...,\n",
       "          [ 0.8105,  0.5107,  ...,  0.1809, -0.1039],\n",
       "          [ 0.6906,  0.5257,  ...,  0.2259, -0.0590]]]),\n",
       " 3)"
      ]
     },
     "execution_count": 7,
     "metadata": {},
     "output_type": "execute_result"
    }
   ],
   "source": [
    "cifar10_test[0]"
   ]
  },
  {
   "cell_type": "code",
   "execution_count": 13,
   "metadata": {},
   "outputs": [
    {
     "data": {
      "text/plain": [
       "(torch.Size([3, 32, 32]), 3)"
      ]
     },
     "execution_count": 13,
     "metadata": {},
     "output_type": "execute_result"
    }
   ],
   "source": [
    "img, label = cifar10_test[0]\n",
    "img.shape, label"
   ]
  },
  {
   "cell_type": "code",
   "execution_count": 18,
   "metadata": {},
   "outputs": [],
   "source": [
    "label_map = {0: 0, 2: 1}\n",
    "class_names = [\"air_plane\", \"birds\"]\n",
    "\n",
    "cifar2_train = [\n",
    "    (img, label_map[label]) for img, label in cifar10_train if label in [0, 2]\n",
    "]\n",
    "cifar2_test = [\n",
    "    (img, label_map[label]) for img, label in cifar10_test if label in [0, 2]\n",
    "]"
   ]
  },
  {
   "cell_type": "code",
   "execution_count": 19,
   "metadata": {},
   "outputs": [
    {
     "data": {
      "text/plain": [
       "(3737474, [3145728, 1024, 524288, 512, 65536, 128, 256, 2])"
      ]
     },
     "execution_count": 19,
     "metadata": {},
     "output_type": "execute_result"
    }
   ],
   "source": [
    "connected_model = nn.Sequential(\n",
    "    nn.Linear(3072, 1024),\n",
    "    nn.Tanh(),\n",
    "    nn.Linear(1024, 512),\n",
    "    nn.Tanh(),\n",
    "    nn.Linear(512, 128),\n",
    "    nn.Tanh(),\n",
    "    nn.Linear(128, 2),\n",
    ")\n",
    "\n",
    "numel_list = [\n",
    "    p.numel() for p in connected_model.parameters() if p.requires_grad == True\n",
    "]\n",
    "\n",
    "sum(numel_list), numel_list"
   ]
  },
  {
   "cell_type": "code",
   "execution_count": 20,
   "metadata": {},
   "outputs": [
    {
     "data": {
      "text/plain": [
       "(torch.Size([1024, 3072]), torch.Size([1024]))"
      ]
     },
     "execution_count": 20,
     "metadata": {},
     "output_type": "execute_result"
    }
   ],
   "source": [
    "linear = nn.Linear(3072, 1024)\n",
    "linear.weight.shape, linear.bias.shape"
   ]
  },
  {
   "cell_type": "code",
   "execution_count": 21,
   "metadata": {},
   "outputs": [
    {
     "data": {
      "text/plain": [
       "Conv2d(3, 16, kernel_size=(3, 3), stride=(1, 1))"
      ]
     },
     "execution_count": 21,
     "metadata": {},
     "output_type": "execute_result"
    }
   ],
   "source": [
    "conv = nn.Conv2d(3, 16, kernel_size=3)\n",
    "conv"
   ]
  },
  {
   "cell_type": "code",
   "execution_count": 22,
   "metadata": {},
   "outputs": [
    {
     "data": {
      "text/plain": [
       "(torch.Size([16, 3, 3, 3]), torch.Size([16]))"
      ]
     },
     "execution_count": 22,
     "metadata": {},
     "output_type": "execute_result"
    }
   ],
   "source": [
    "conv.weight.shape, conv.bias.shape"
   ]
  },
  {
   "cell_type": "code",
   "execution_count": 34,
   "metadata": {},
   "outputs": [
    {
     "data": {
      "text/plain": [
       "torch.Size([3, 32, 32])"
      ]
     },
     "execution_count": 34,
     "metadata": {},
     "output_type": "execute_result"
    }
   ],
   "source": [
    "img, _ = cifar2_train[0]\n",
    "img.shape"
   ]
  },
  {
   "cell_type": "code",
   "execution_count": 36,
   "metadata": {},
   "outputs": [
    {
     "data": {
      "text/plain": [
       "torch.Size([3072])"
      ]
     },
     "execution_count": 36,
     "metadata": {},
     "output_type": "execute_result"
    }
   ],
   "source": [
    "img_view = img.view(-1)\n",
    "img_view.shape"
   ]
  },
  {
   "cell_type": "code",
   "execution_count": 38,
   "metadata": {},
   "outputs": [
    {
     "data": {
      "text/plain": [
       "torch.Size([1, 3, 32, 32])"
      ]
     },
     "execution_count": 38,
     "metadata": {},
     "output_type": "execute_result"
    }
   ],
   "source": [
    "img = img.unsqueeze(0)\n",
    "img.shape"
   ]
  },
  {
   "cell_type": "code",
   "execution_count": 42,
   "metadata": {},
   "outputs": [
    {
     "data": {
      "text/plain": [
       "torch.Size([1, 16, 30, 30])"
      ]
     },
     "execution_count": 42,
     "metadata": {},
     "output_type": "execute_result"
    }
   ],
   "source": [
    "img, _ = cifar2_train[0]\n",
    "output = conv(img.unsqueeze(0))\n",
    "output.shape"
   ]
  },
  {
   "cell_type": "code",
   "execution_count": 43,
   "metadata": {},
   "outputs": [
    {
     "data": {
      "text/plain": [
       "<matplotlib.image.AxesImage at 0x73af4857aa10>"
      ]
     },
     "execution_count": 43,
     "metadata": {},
     "output_type": "execute_result"
    },
    {
     "data": {
      "image/png": "[encoded data removed]",
      "text/plain": [
       "<Figure size 640x480 with 1 Axes>"
      ]
     },
     "metadata": {},
     "output_type": "display_data"
    }
   ],
   "source": [
    "plt.imshow(img.mean(0), cmap=\"gray\")"
   ]
  },
  {
   "cell_type": "code",
   "execution_count": 58,
   "metadata": {},
   "outputs": [
    {
     "data": {
      "text/plain": [
       "torch.Size([30, 30])"
      ]
     },
     "execution_count": 58,
     "metadata": {},
     "output_type": "execute_result"
    }
   ],
   "source": [
    "output[0, 0].shape"
   ]
  },
  {
   "cell_type": "code",
   "execution_count": 51,
   "metadata": {},
   "outputs": [
    {
     "data": {
      "text/plain": [
       "tensor([[ 0.5007, -0.2808,  ..., -0.1873, -0.4339],\n",
       "        [ 0.5542, -0.1752,  ..., -0.2151, -0.4552],\n",
       "        ...,\n",
       "        [ 0.2374,  0.2070,  ..., -0.4448, -0.0253],\n",
       "        [ 0.4067,  0.5953,  ..., -0.5673, -0.1147]])"
      ]
     },
     "execution_count": 51,
     "metadata": {},
     "output_type": "execute_result"
    }
   ],
   "source": [
    "img.mean(0)"
   ]
  },
  {
   "cell_type": "code",
   "execution_count": 45,
   "metadata": {},
   "outputs": [
    {
     "data": {
      "text/plain": [
       "Text(0.5, 1.0, 'input')"
      ]
     },
     "execution_count": 45,
     "metadata": {},
     "output_type": "execute_result"
    },
    {
     "data": {
      "image/png": "[encoded data removed]",
      "text/plain": [
       "<Figure size 1000x480 with 2 Axes>"
      ]
     },
     "metadata": {},
     "output_type": "display_data"
    }
   ],
   "source": [
    "plt.figure(figsize=(10, 4.8))\n",
    "ax1 = plt.subplot(1, 2, 1)\n",
    "plt.title(\"output\")\n",
    "plt.imshow(output[0, 0].detach(), cmap=\"gray\")\n",
    "plt.subplot(1, 2, 2, sharex=ax1, sharey=ax1)\n",
    "plt.imshow(img.mean(0), cmap=\"gray\")\n",
    "plt.title(\"input\")"
   ]
  },
  {
   "cell_type": "code",
   "execution_count": 59,
   "metadata": {},
   "outputs": [
    {
     "data": {
      "text/plain": [
       "(torch.Size([1, 3, 32, 32]), torch.Size([1, 1, 32, 32]))"
      ]
     },
     "execution_count": 59,
     "metadata": {},
     "output_type": "execute_result"
    }
   ],
   "source": [
    "conv = nn.Conv2d(3, 1, kernel_size=3, padding=1)\n",
    "output = conv(img.unsqueeze(0))\n",
    "img.unsqueeze(0).shape, output.shape"
   ]
  },
  {
   "cell_type": "code",
   "execution_count": 62,
   "metadata": {},
   "outputs": [],
   "source": [
    "with torch.no_grad():\n",
    "    conv.bias.zero_()\n",
    "with torch.no_grad():\n",
    "    conv.weight.fill_(1.0 / 9.0)"
   ]
  },
  {
   "cell_type": "code",
   "execution_count": 67,
   "metadata": {},
   "outputs": [
    {
     "data": {
      "text/plain": [
       "False"
      ]
     },
     "execution_count": 67,
     "metadata": {},
     "output_type": "execute_result"
    }
   ],
   "source": [
    "# Example tensor with shape (1, 2, 3, 3)\n",
    "output = torch.tensor(\n",
    "    [\n",
    "        [\n",
    "            [[0.5, 0.6, 0.4], [0.7, 0.2, 0.1], [0.9, 0.3, 0.8]],\n",
    "            [[0.1, 0.3, 0.6], [0.8, 0.7, 0.2], [0.4, 0.9, 0.5]],\n",
    "        ]\n",
    "    ]\n",
    ")  # Shape: (1, 2, 3, 3)\n",
    "\n",
    "output[0] == [\n",
    "    [[0.5, 0.6, 0.4], [0.7, 0.2, 0.1], [0.9, 0.3, 0.8]],\n",
    "    [[0.1, 0.3, 0.6], [0.8, 0.7, 0.2], [0.4, 0.9, 0.5]],\n",
    "]  # Shape: (2, 3, 3)\n",
    "\n",
    "output[0, 0] == [[0.5, 0.6, 0.4], [0.7, 0.2, 0.1], [0.9, 0.3, 0.8]]  # Shape: (3, 3)"
   ]
  },
  {
   "cell_type": "code",
   "execution_count": 68,
   "metadata": {},
   "outputs": [
    {
     "data": {
      "text/plain": [
       "<matplotlib.image.AxesImage at 0x73af311a5090>"
      ]
     },
     "execution_count": 68,
     "metadata": {},
     "output_type": "execute_result"
    },
    {
     "data": {
      "image/png": "[encoded data removed]",
      "text/plain": [
       "<Figure size 1000x480 with 2 Axes>"
      ]
     },
     "metadata": {},
     "output_type": "display_data"
    }
   ],
   "source": [
    "output = conv(img.unsqueeze(0))\n",
    "plt.figure(figsize=(10, 4.8))\n",
    "ax1 = plt.subplot(1, 2, 1)\n",
    "plt.title(\"output\")\n",
    "plt.imshow(output[0, 0].detach(), cmap=\"gray\")\n",
    "plt.subplot(1, 2, 2)\n",
    "plt.title(\"input\")\n",
    "plt.imshow(img.mean(0), cmap=\"gray\")"
   ]
  },
  {
   "cell_type": "code",
   "execution_count": 69,
   "metadata": {},
   "outputs": [
    {
     "data": {
      "image/png": "[encoded data removed]",
      "text/plain": [
       "<Figure size 1000x480 with 2 Axes>"
      ]
     },
     "metadata": {},
     "output_type": "display_data"
    }
   ],
   "source": [
    "conv = nn.Conv2d(3, 1, kernel_size=3, padding=1)\n",
    "\n",
    "with torch.no_grad():\n",
    "    conv.weight[:] = torch.tensor(\n",
    "        [[-1.0, 0.0, 1.0], [-1.0, 0.0, 1.0], [-1.0, 0.0, 1.0]]\n",
    "    )\n",
    "    conv.bias.zero_()\n",
    "\n",
    "output = conv(img.unsqueeze(0))\n",
    "plt.figure(figsize=(10, 4.8))  # bookskip\n",
    "ax1 = plt.subplot(1, 2, 1)  # bookskip\n",
    "plt.title(\"output\")  # bookskip\n",
    "plt.imshow(output[0, 0].detach(), cmap=\"gray\")\n",
    "plt.subplot(1, 2, 2, sharex=ax1, sharey=ax1)  # bookskip\n",
    "plt.imshow(img.mean(0), cmap=\"gray\")  # bookskip\n",
    "plt.title(\"input\")  # bookskip\n",
    "plt.savefig(\"Ch8_F5_PyTorch.png\")  # bookskip\n",
    "plt.show()"
   ]
  },
  {
   "cell_type": "code",
   "execution_count": 70,
   "metadata": {},
   "outputs": [
    {
     "data": {
      "text/plain": [
       "(torch.Size([1, 3, 32, 32]), torch.Size([1, 3, 16, 16]))"
      ]
     },
     "execution_count": 70,
     "metadata": {},
     "output_type": "execute_result"
    }
   ],
   "source": [
    "pool = nn.MaxPool2d(2)\n",
    "output = pool(img.unsqueeze(0))\n",
    "img.unsqueeze(0).shape, output.shape"
   ]
  },
  {
   "cell_type": "code",
   "execution_count": 73,
   "metadata": {},
   "outputs": [
    {
     "data": {
      "text/plain": [
       "(18090, [432, 16, 1152, 8, 16384, 32, 64, 2])"
      ]
     },
     "execution_count": 73,
     "metadata": {},
     "output_type": "execute_result"
    }
   ],
   "source": [
    "model = nn.Sequential(\n",
    "    nn.Conv2d(3, 16, kernel_size=3, padding=1),\n",
    "    nn.Tanh(),\n",
    "    nn.MaxPool2d(2),\n",
    "    nn.Conv2d(16, 8, kernel_size=3, padding=1),\n",
    "    nn.Tanh(),\n",
    "    nn.MaxPool2d(2),\n",
    "    nn.Flatten(),\n",
    "    nn.Linear(512, 32),\n",
    "    nn.Tanh(),\n",
    "    nn.Linear(32, 2),\n",
    ")\n",
    "\n",
    "numel_list = [p.numel() for p in model.parameters()]\n",
    "sum(numel_list), numel_list"
   ]
  },
  {
   "cell_type": "code",
   "execution_count": 75,
   "metadata": {},
   "outputs": [
    {
     "data": {
      "text/plain": [
       "torch.return_types.max(\n",
       "values=tensor([-0.0207], grad_fn=<MaxBackward0>),\n",
       "indices=tensor([1]))"
      ]
     },
     "execution_count": 75,
     "metadata": {},
     "output_type": "execute_result"
    }
   ],
   "source": [
    "out = model(img.unsqueeze(0))\n",
    "torch.max(out, dim=1)"
   ]
  },
  {
   "cell_type": "code",
   "execution_count": 85,
   "metadata": {},
   "outputs": [
    {
     "data": {
      "text/plain": [
       "(18090, [432, 16, 1152, 8, 16384, 32, 64, 2])"
      ]
     },
     "execution_count": 85,
     "metadata": {},
     "output_type": "execute_result"
    }
   ],
   "source": [
    "class Net(nn.Module):\n",
    "    def __init__(self):\n",
    "        super().__init__()\n",
    "        self.conv1 = nn.Conv2d(3, 16, kernel_size=3, padding=1)\n",
    "        self.act1 = nn.Tanh()\n",
    "        self.pool1 = nn.MaxPool2d(2)\n",
    "\n",
    "        self.conv2 = nn.Conv2d(16, 8, kernel_size=3, padding=1)\n",
    "        self.act2 = nn.Tanh()\n",
    "        self.pool2 = nn.MaxPool2d(2)\n",
    "\n",
    "        self.fc1 = nn.Linear(8 * 8 * 8, 32)\n",
    "        self.act3 = nn.Tanh()\n",
    "        self.fc2 = nn.Linear(32, 2)\n",
    "\n",
    "    def forward(self, x):\n",
    "        out = self.pool1(self.act1(self.conv1(x)))\n",
    "        out = self.pool1(self.act1(self.conv1(x)))\n",
    "        out = out.view(-1, 512)\n",
    "        out = self.act3(self.fc1(out))\n",
    "        out = self.fc2(out)\n",
    "        return out\n",
    "\n",
    "\n",
    "model = Net()\n",
    "numel_list = [p.numel() for p in model.parameters()]\n",
    "sum(numel_list), numel_list"
   ]
  },
  {
   "cell_type": "code",
   "execution_count": 88,
   "metadata": {},
   "outputs": [
    {
     "data": {
      "text/plain": [
       "tensor(-0.0207, grad_fn=<SelectBackward0>)"
      ]
     },
     "execution_count": 88,
     "metadata": {},
     "output_type": "execute_result"
    }
   ],
   "source": [
    "out = out.view(-1)\n",
    "out[1]"
   ]
  },
  {
   "cell_type": "code",
   "execution_count": 151,
   "metadata": {},
   "outputs": [],
   "source": [
    "import torch.nn.functional as F\n",
    "\n",
    "\n",
    "class Net(nn.Module):\n",
    "    def __init__(self):\n",
    "        super().__init__()\n",
    "        self.conv1 = nn.Conv2d(3, 16, kernel_size=3, padding=1)\n",
    "        self.conv2 = nn.Conv2d(16, 8, kernel_size=3, padding=1)\n",
    "        self.fc1 = nn.Linear(8 * 8 * 8, 32)\n",
    "        self.fc2 = nn.Linear(32, 2)\n",
    "\n",
    "    def forward(self, x):\n",
    "        out = F.max_pool2d(torch.tanh(self.conv1(x)), 2)\n",
    "        out = F.max_pool2d(torch.tanh(self.conv2(out)), 2)\n",
    "        out = out.view(-1, 8 * 8 * 8)\n",
    "        out = torch.tanh(self.fc1(out))\n",
    "        out = self.fc2(out)\n",
    "        return out"
   ]
  },
  {
   "cell_type": "code",
   "execution_count": 152,
   "metadata": {},
   "outputs": [
    {
     "data": {
      "text/plain": [
       "tensor([[ 0.0359, -0.1468]], grad_fn=<AddmmBackward0>)"
      ]
     },
     "execution_count": 152,
     "metadata": {},
     "output_type": "execute_result"
    }
   ],
   "source": [
    "model = Net()\n",
    "model(img.unsqueeze(0))"
   ]
  },
  {
   "cell_type": "code",
   "execution_count": 153,
   "metadata": {},
   "outputs": [
    {
     "name": "stdout",
     "output_type": "stream",
     "text": [
      "2024-10-13 21:05:01.946541 Epoch 1, Training loss 0.5773623439536733\n",
      "2024-10-13 21:05:05.941760 Epoch 10, Training loss 0.33177653666894147\n",
      "2024-10-13 21:05:10.326287 Epoch 20, Training loss 0.29140673549311935\n",
      "2024-10-13 21:05:14.707782 Epoch 30, Training loss 0.2617330554943935\n",
      "2024-10-13 21:05:19.079025 Epoch 40, Training loss 0.24273340617585334\n",
      "2024-10-13 21:05:23.444584 Epoch 50, Training loss 0.2243401551037837\n",
      "2024-10-13 21:05:27.840168 Epoch 60, Training loss 0.20708811510900024\n",
      "2024-10-13 21:05:32.265877 Epoch 70, Training loss 0.19108502381736306\n",
      "2024-10-13 21:05:36.711736 Epoch 80, Training loss 0.17547334348604937\n",
      "2024-10-13 21:05:41.152455 Epoch 90, Training loss 0.16210515232412678\n",
      "2024-10-13 21:05:45.666290 Epoch 100, Training loss 0.14859485813671616\n"
     ]
    }
   ],
   "source": [
    "import datetime\n",
    "from torch.utils.data import DataLoader\n",
    "\n",
    "\n",
    "def training_loop(n_epochs, optimizer, model, loss_fn, train_loader):\n",
    "    for epoch in range(1, n_epochs + 1):\n",
    "        loss_train = 0.0\n",
    "        for imgs, labels in train_loader:\n",
    "            outputs = model(imgs)\n",
    "\n",
    "            loss = loss_fn(outputs, labels)\n",
    "\n",
    "            optimizer.zero_grad()\n",
    "\n",
    "            loss.backward()\n",
    "\n",
    "            optimizer.step()\n",
    "            loss_train += loss.item()\n",
    "        if epoch == 1 or epoch % 10 == 0:\n",
    "            print(\n",
    "                \"{} Epoch {}, Training loss {}\".format(\n",
    "                    datetime.datetime.now(), epoch, loss_train / len(train_loader)\n",
    "                )\n",
    "            )  # <10>\n",
    "\n",
    "\n",
    "train_loader = DataLoader(cifar2_train, batch_size=64, shuffle=True)\n",
    "model = Net()\n",
    "loss_fn = torch.nn.CrossEntropyLoss()\n",
    "\n",
    "learning_rate = 1e-2\n",
    "\n",
    "optimizer = torch.optim.SGD(model.parameters(), lr=learning_rate)\n",
    "n_epochs = 100\n",
    "training_loop(n_epochs, optimizer, model, loss_fn, train_loader)"
   ]
  },
  {
   "cell_type": "code",
   "execution_count": 154,
   "metadata": {},
   "outputs": [
    {
     "name": "stdout",
     "output_type": "stream",
     "text": [
      "Accuracy train: 0.93\n",
      "Accuracy test: 0.88\n"
     ]
    }
   ],
   "source": [
    "train_loader = DataLoader(cifar2_train, batch_size=64, shuffle=True)\n",
    "test_loader = DataLoader(cifar2_test, batch_size=64, shuffle=True)\n",
    "\n",
    "all_acc_dict = collections.OrderedDict()\n",
    "\n",
    "\n",
    "def validate(model, train_loader, test_loader):\n",
    "    accdict = {}\n",
    "    for name, loader in [(\"train\", train_loader), (\"test\", test_loader)]:\n",
    "        correct = 0\n",
    "        total = 0\n",
    "        with torch.no_grad():\n",
    "            for imgs, labels in loader:\n",
    "                # imgs = imgs.to(device=device)\n",
    "                outputs = model(imgs)\n",
    "                _, predicted = torch.max(outputs, dim=1)\n",
    "                correct += int((predicted == labels).sum())\n",
    "                total += labels.shape[0]\n",
    "        print(\"Accuracy {}: {:.2f}\".format(name, correct / total))\n",
    "        accdict[name] = correct / total\n",
    "    return accdict\n",
    "\n",
    "\n",
    "all_acc_dict[\"baseline\"] = validate(model, train_loader, test_loader)"
   ]
  },
  {
   "cell_type": "code",
   "execution_count": 105,
   "metadata": {},
   "outputs": [
    {
     "name": "stdout",
     "output_type": "stream",
     "text": [
      "Training on device cuda.\n"
     ]
    }
   ],
   "source": [
    "data_path = \"./\"\n",
    "torch.save(model.state_dict(), data_path + \"birds_vs_airplanes.pt\")"
   ]
  },
  {
   "cell_type": "code",
   "execution_count": 106,
   "metadata": {},
   "outputs": [
    {
     "name": "stderr",
     "output_type": "stream",
     "text": [
      "/tmp/ipykernel_15998/938870844.py:2: FutureWarning: You are using `torch.load` with `weights_only=False` (the current default value), which uses the default pickle module implicitly. It is possible to construct malicious pickle data which will execute arbitrary code during unpickling (See https://github.com/pytorch/pytorch/blob/main/SECURITY.md#untrusted-models for more details). In a future release, the default value for `weights_only` will be flipped to `True`. This limits the functions that could be executed during unpickling. Arbitrary objects will no longer be allowed to be loaded via this mode unless they are explicitly allowlisted by the user via `torch.serialization.add_safe_globals`. We recommend you start setting `weights_only=True` for any use case where you don't have full control of the loaded file. Please open an issue on GitHub for any issues related to this experimental feature.\n",
      "  loaded_model.load_state_dict(torch.load(data_path + \"birds_vs_airplanes.pt\"))\n"
     ]
    },
    {
     "data": {
      "text/plain": [
       "<All keys matched successfully>"
      ]
     },
     "execution_count": 106,
     "metadata": {},
     "output_type": "execute_result"
    }
   ],
   "source": [
    "loaded_model = Net()\n",
    "loaded_model.load_state_dict(torch.load(data_path + \"birds_vs_airplanes.pt\"))"
   ]
  },
  {
   "cell_type": "code",
   "execution_count": 109,
   "metadata": {},
   "outputs": [
    {
     "name": "stdout",
     "output_type": "stream",
     "text": [
      "Training on device cuda.\n",
      "2024-10-13 19:35:26.874998 Epoch 1, Training loss 0.5942039047456851\n",
      "2024-10-13 19:35:28.470320 Epoch 10, Training loss 0.3351780284362234\n",
      "2024-10-13 19:35:30.249591 Epoch 20, Training loss 0.3004957265724802\n",
      "2024-10-13 19:35:31.935385 Epoch 30, Training loss 0.272345377476352\n",
      "2024-10-13 19:35:33.657935 Epoch 40, Training loss 0.2487068147795975\n",
      "2024-10-13 19:35:35.326219 Epoch 50, Training loss 0.232628430388156\n",
      "2024-10-13 19:35:37.001525 Epoch 60, Training loss 0.21448949596304803\n",
      "2024-10-13 19:35:38.748254 Epoch 70, Training loss 0.19754560044996297\n",
      "2024-10-13 19:35:40.443825 Epoch 80, Training loss 0.18179281312189285\n",
      "2024-10-13 19:35:42.097242 Epoch 90, Training loss 0.16618693024394618\n",
      "2024-10-13 19:35:43.757547 Epoch 100, Training loss 0.15295525685332384\n"
     ]
    }
   ],
   "source": [
    "import datetime\n",
    "from torch.utils.data import DataLoader\n",
    "\n",
    "device = torch.device(\"cuda\") if torch.cuda.is_available() else torch.device(\"cpu\")\n",
    "print(f\"Training on device {device}.\")\n",
    "\n",
    "\n",
    "def training_loop(n_epochs, optimizer, model, loss_fn, train_loader):\n",
    "    for epoch in range(1, n_epochs + 1):\n",
    "        loss_train = 0.0\n",
    "        for imgs, labels in train_loader:\n",
    "            imgs = imgs.to(device=device)\n",
    "            labels = labels.to(device=device)\n",
    "            outputs = model(imgs)\n",
    "\n",
    "            loss = loss_fn(outputs, labels)\n",
    "\n",
    "            optimizer.zero_grad()\n",
    "\n",
    "            loss.backward()\n",
    "\n",
    "            optimizer.step()\n",
    "            loss_train += loss.item()\n",
    "        if epoch == 1 or epoch % 10 == 0:\n",
    "            print(\n",
    "                \"{} Epoch {}, Training loss {}\".format(\n",
    "                    datetime.datetime.now(), epoch, loss_train / len(train_loader)\n",
    "                )\n",
    "            )  # <10>\n",
    "\n",
    "\n",
    "train_loader = DataLoader(cifar2_train, batch_size=64, shuffle=True)\n",
    "model = Net().to(device=device)\n",
    "loss_fn = torch.nn.CrossEntropyLoss()\n",
    "\n",
    "learning_rate = 1e-2\n",
    "\n",
    "optimizer = torch.optim.SGD(model.parameters(), lr=learning_rate)\n",
    "n_epochs = 100\n",
    "training_loop(n_epochs, optimizer, model, loss_fn, train_loader)"
   ]
  },
  {
   "cell_type": "code",
   "execution_count": 110,
   "metadata": {},
   "outputs": [
    {
     "name": "stdout",
     "output_type": "stream",
     "text": [
      "Accuracy train: 0.94\n",
      "Accuracy test: 0.89\n"
     ]
    }
   ],
   "source": [
    "train_loader = DataLoader(cifar2_train, batch_size=64, shuffle=True)\n",
    "test_loader = DataLoader(cifar2_test, batch_size=64, shuffle=True)\n",
    "\n",
    "\n",
    "all_acc_dict = collections.OrderedDict()\n",
    "\n",
    "\n",
    "def validate(model, train_loader, test_loader):\n",
    "    accdict = {}\n",
    "    for name, loader in [(\"train\", train_loader), (\"test\", test_loader)]:\n",
    "        correct = 0\n",
    "        total = 0\n",
    "        with torch.no_grad():\n",
    "            for imgs, labels in loader:\n",
    "                imgs = imgs.to(device=device)\n",
    "                labels = labels.to(device=device)\n",
    "                outputs = model(imgs)\n",
    "                _, predicted = torch.max(outputs, dim=1)\n",
    "                correct += int((predicted == labels).sum())\n",
    "                total += labels.shape[0]\n",
    "        print(\"Accuracy {}: {:.2f}\".format(name, correct / total))\n",
    "        accdict[name] = correct / total\n",
    "    return accdict\n",
    "\n",
    "\n",
    "all_acc_dict[\"baseline\"] = validate(model, train_loader, test_loader)"
   ]
  },
  {
   "cell_type": "code",
   "execution_count": 112,
   "metadata": {},
   "outputs": [
    {
     "name": "stderr",
     "output_type": "stream",
     "text": [
      "/tmp/ipykernel_15998/4202793583.py:3: FutureWarning: You are using `torch.load` with `weights_only=False` (the current default value), which uses the default pickle module implicitly. It is possible to construct malicious pickle data which will execute arbitrary code during unpickling (See https://github.com/pytorch/pytorch/blob/main/SECURITY.md#untrusted-models for more details). In a future release, the default value for `weights_only` will be flipped to `True`. This limits the functions that could be executed during unpickling. Arbitrary objects will no longer be allowed to be loaded via this mode unless they are explicitly allowlisted by the user via `torch.serialization.add_safe_globals`. We recommend you start setting `weights_only=True` for any use case where you don't have full control of the loaded file. Please open an issue on GitHub for any issues related to this experimental feature.\n",
      "  torch.load(data_path + \"birds_vs_airplanes.pt\", map_location=device)\n"
     ]
    },
    {
     "data": {
      "text/plain": [
       "Net(\n",
       "  (conv1): Conv2d(3, 16, kernel_size=(3, 3), stride=(1, 1), padding=(1, 1))\n",
       "  (conv2): Conv2d(16, 8, kernel_size=(3, 3), stride=(1, 1), padding=(1, 1))\n",
       "  (fc1): Linear(in_features=512, out_features=32, bias=True)\n",
       "  (fc2): Linear(in_features=32, out_features=2, bias=True)\n",
       ")"
      ]
     },
     "execution_count": 112,
     "metadata": {},
     "output_type": "execute_result"
    }
   ],
   "source": [
    "loaded_model = Net().to(device=device)\n",
    "loaded_model.load_state_dict(\n",
    "    torch.load(data_path + \"birds_vs_airplanes.pt\", map_location=device)\n",
    ")\n",
    "loaded_model"
   ]
  },
  {
   "cell_type": "code",
   "execution_count": 155,
   "metadata": {},
   "outputs": [
    {
     "name": "stdout",
     "output_type": "stream",
     "text": [
      "Training on device cuda.\n",
      "2024-10-13 21:06:37.213309 Epoch 1, Training loss 0.5451705983489942\n",
      "2024-10-13 21:06:39.649387 Epoch 10, Training loss 0.3141589125820026\n",
      "2024-10-13 21:06:42.348828 Epoch 20, Training loss 0.2696631289781279\n",
      "2024-10-13 21:06:45.040501 Epoch 30, Training loss 0.23837353227434643\n",
      "2024-10-13 21:06:47.744804 Epoch 40, Training loss 0.2133814553451386\n",
      "2024-10-13 21:06:50.455319 Epoch 50, Training loss 0.18779150724031363\n",
      "2024-10-13 21:06:53.166742 Epoch 60, Training loss 0.1684613225471442\n",
      "2024-10-13 21:06:55.873269 Epoch 70, Training loss 0.14620310919964388\n",
      "2024-10-13 21:06:58.574012 Epoch 80, Training loss 0.12608319978900018\n",
      "2024-10-13 21:07:01.283389 Epoch 90, Training loss 0.10735470132463297\n",
      "2024-10-13 21:07:03.986857 Epoch 100, Training loss 0.09051941714848682\n",
      "Accuracy train: 0.97\n",
      "Accuracy test: 0.90\n"
     ]
    }
   ],
   "source": [
    "import datetime\n",
    "from torch.utils.data import DataLoader\n",
    "\n",
    "device = torch.device(\"cuda\") if torch.cuda.is_available() else torch.device(\"cpu\")\n",
    "print(f\"Training on device {device}.\")\n",
    "\n",
    "import torch.nn.functional as F\n",
    "\n",
    "\n",
    "class NetWidth(nn.Module):\n",
    "    def __init__(self, n_chansl=32):\n",
    "        super().__init__()\n",
    "        self.n_chansl = n_chansl\n",
    "        self.conv1 = nn.Conv2d(3, n_chansl, kernel_size=3, padding=1)\n",
    "        self.conv2 = nn.Conv2d(n_chansl, n_chansl // 2, kernel_size=3, padding=1)\n",
    "        self.fc1 = nn.Linear(8 * 8 * n_chansl // 2, 32)\n",
    "        self.fc2 = nn.Linear(32, 2)\n",
    "\n",
    "    def forward(self, x):\n",
    "        out = F.max_pool2d(torch.tanh(self.conv1(x)), 2)\n",
    "        out = F.max_pool2d(torch.tanh(self.conv2(out)), 2)\n",
    "        out = out.view(-1, 8 * 8 * self.n_chansl // 2)\n",
    "        out = torch.tanh(self.fc1(out))\n",
    "        out = self.fc2(out)\n",
    "        return out\n",
    "\n",
    "\n",
    "def training_loop(n_epochs, optimizer, model, loss_fn, train_loader):\n",
    "    for epoch in range(1, n_epochs + 1):\n",
    "        loss_train = 0.0\n",
    "        for imgs, labels in train_loader:\n",
    "            imgs = imgs.to(device=device)\n",
    "            labels = labels.to(device=device)\n",
    "            outputs = model(imgs)\n",
    "\n",
    "            loss = loss_fn(outputs, labels)\n",
    "\n",
    "            optimizer.zero_grad()\n",
    "\n",
    "            loss.backward()\n",
    "\n",
    "            optimizer.step()\n",
    "            loss_train += loss.item()\n",
    "        if epoch == 1 or epoch % 10 == 0:\n",
    "            print(\n",
    "                \"{} Epoch {}, Training loss {}\".format(\n",
    "                    datetime.datetime.now(), epoch, loss_train / len(train_loader)\n",
    "                )\n",
    "            )  # <10>\n",
    "\n",
    "\n",
    "train_loader = DataLoader(cifar2_train, batch_size=64, shuffle=True)\n",
    "model = NetWidth(n_chansl=32).to(device=device)\n",
    "loss_fn = torch.nn.CrossEntropyLoss()\n",
    "\n",
    "learning_rate = 1e-2\n",
    "\n",
    "optimizer = torch.optim.SGD(model.parameters(), lr=learning_rate)\n",
    "n_epochs = 100\n",
    "training_loop(\n",
    "    n_epochs=n_epochs,\n",
    "    optimizer=optimizer,\n",
    "    model=model,\n",
    "    loss_fn=loss_fn,\n",
    "    train_loader=train_loader,\n",
    ")\n",
    "test_loader = DataLoader(cifar2_test, batch_size=64, shuffle=True)\n",
    "\n",
    "\n",
    "def validate(model, train_loader, test_loader):\n",
    "    accdict = {}\n",
    "    for name, loader in [(\"train\", train_loader), (\"test\", test_loader)]:\n",
    "        correct = 0\n",
    "        total = 0\n",
    "        with torch.no_grad():\n",
    "            for imgs, labels in loader:\n",
    "                imgs = imgs.to(device=device)\n",
    "                labels = labels.to(device=device)\n",
    "                outputs = model(imgs)\n",
    "                _, predicted = torch.max(outputs, dim=1)\n",
    "                correct += int((predicted == labels).sum())\n",
    "                total += labels.shape[0]\n",
    "        print(\"Accuracy {}: {:.2f}\".format(name, correct / total))\n",
    "        accdict[name] = correct / total\n",
    "    return accdict\n",
    "\n",
    "\n",
    "all_acc_dict[\"NetWidth\"] = validate(model, train_loader, test_loader)"
   ]
  },
  {
   "cell_type": "code",
   "execution_count": 156,
   "metadata": {},
   "outputs": [
    {
     "name": "stdout",
     "output_type": "stream",
     "text": [
      "Accuracy train: 0.97\n",
      "Accuracy test: 0.90\n"
     ]
    }
   ],
   "source": [
    "train_loader = DataLoader(cifar2_train, batch_size=64, shuffle=True)\n",
    "test_loader = DataLoader(cifar2_test, batch_size=64, shuffle=True)\n",
    "\n",
    "\n",
    "def validate(model, train_loader, test_loader):\n",
    "    accdict = {}\n",
    "    for name, loader in [(\"train\", train_loader), (\"test\", test_loader)]:\n",
    "        correct = 0\n",
    "        total = 0\n",
    "        with torch.no_grad():\n",
    "            for imgs, labels in loader:\n",
    "                imgs = imgs.to(device=device)\n",
    "                labels = labels.to(device=device)\n",
    "                outputs = model(imgs)\n",
    "                _, predicted = torch.max(outputs, dim=1)\n",
    "                correct += int((predicted == labels).sum())\n",
    "                total += labels.shape[0]\n",
    "        print(\"Accuracy {}: {:.2f}\".format(name, correct / total))\n",
    "        accdict[name] = correct / total\n",
    "    return accdict\n",
    "\n",
    "\n",
    "all_acc_dict[\"width\"] = validate(model, train_loader, test_loader)"
   ]
  },
  {
   "cell_type": "markdown",
   "metadata": {},
   "source": [
    "The training_loop_l2reg function you provided incorporates L2 regularization (also known as weight decay) into the training process. This method helps to prevent overfitting by penalizing large weights, encouraging the model to keep its weights smaller.\n"
   ]
  },
  {
   "cell_type": "code",
   "execution_count": 157,
   "metadata": {},
   "outputs": [
    {
     "name": "stdout",
     "output_type": "stream",
     "text": [
      "Training on device cuda.\n",
      "2024-10-13 21:08:08.707825 Epoch 1, Training loss 0.5613429635573345\n",
      "2024-10-13 21:08:10.308464 Epoch 10, Training loss 0.33639753140082024\n",
      "2024-10-13 21:08:11.995533 Epoch 20, Training loss 0.29060646711261406\n",
      "2024-10-13 21:08:13.649230 Epoch 30, Training loss 0.2606877406501466\n",
      "2024-10-13 21:08:15.296928 Epoch 40, Training loss 0.24239417056369175\n",
      "2024-10-13 21:08:16.952555 Epoch 50, Training loss 0.2255798888624094\n",
      "2024-10-13 21:08:18.613476 Epoch 60, Training loss 0.2071150914309131\n",
      "2024-10-13 21:08:20.334329 Epoch 70, Training loss 0.19195311265006945\n",
      "2024-10-13 21:08:22.053569 Epoch 80, Training loss 0.1781766317832242\n",
      "2024-10-13 21:08:23.820064 Epoch 90, Training loss 0.16471946434040738\n",
      "2024-10-13 21:08:25.580982 Epoch 100, Training loss 0.15421874396455515\n",
      "Accuracy train: 0.93\n",
      "Accuracy test: 0.89\n"
     ]
    }
   ],
   "source": [
    "import datetime\n",
    "from torch.utils.data import DataLoader\n",
    "import torch.nn.functional as F\n",
    "\n",
    "\n",
    "class Net(nn.Module):\n",
    "    def __init__(self):\n",
    "        super().__init__()\n",
    "        self.conv1 = nn.Conv2d(3, 16, kernel_size=3, padding=1)\n",
    "        self.conv2 = nn.Conv2d(16, 8, kernel_size=3, padding=1)\n",
    "        self.fc1 = nn.Linear(8 * 8 * 8, 32)\n",
    "        self.fc2 = nn.Linear(32, 2)\n",
    "\n",
    "    def forward(self, x):\n",
    "        out = F.max_pool2d(torch.tanh(self.conv1(x)), 2)\n",
    "        out = F.max_pool2d(torch.tanh(self.conv2(out)), 2)\n",
    "        out = out.view(-1, 8 * 8 * 8)\n",
    "        out = torch.tanh(self.fc1(out))\n",
    "        out = self.fc2(out)\n",
    "        return out\n",
    "\n",
    "\n",
    "device = torch.device(\"cuda\") if torch.cuda.is_available() else torch.device(\"cpu\")\n",
    "print(f\"Training on device {device}.\")\n",
    "\n",
    "\n",
    "def training_loop_l2reg(n_epochs, optimizer, model, loss_fn, train_loader):\n",
    "    for epoch in range(1, n_epochs + 1):\n",
    "        loss_train = 0.0\n",
    "        for imgs, labels in train_loader:\n",
    "            imgs = imgs.to(device=device)\n",
    "            labels = labels.to(device=device)\n",
    "            outputs = model(imgs)\n",
    "\n",
    "            loss = loss_fn(outputs, labels)\n",
    "\n",
    "            l2_lambda = 0.001\n",
    "            l2_norm = sum(p.pow(2.0).sum() for p in model.parameters())\n",
    "            loss = loss + l2_lambda * l2_norm\n",
    "            optimizer.zero_grad()\n",
    "\n",
    "            loss.backward()\n",
    "\n",
    "            optimizer.step()\n",
    "            loss_train += loss.item()\n",
    "        if epoch == 1 or epoch % 10 == 0:\n",
    "            print(\n",
    "                \"{} Epoch {}, Training loss {}\".format(\n",
    "                    datetime.datetime.now(), epoch, loss_train / len(train_loader)\n",
    "                )\n",
    "            )  # <10>\n",
    "\n",
    "\n",
    "train_loader = DataLoader(cifar2_train, batch_size=64, shuffle=True)\n",
    "model = Net().to(device=device)\n",
    "loss_fn = torch.nn.CrossEntropyLoss()\n",
    "\n",
    "learning_rate = 1e-2\n",
    "\n",
    "optimizer = torch.optim.SGD(model.parameters(), lr=learning_rate)\n",
    "n_epochs = 100\n",
    "training_loop(n_epochs, optimizer, model, loss_fn, train_loader)\n",
    "\n",
    "\n",
    "test_loader = DataLoader(cifar2_test, batch_size=64, shuffle=True)\n",
    "\n",
    "\n",
    "def validate(model, train_loader, test_loader):\n",
    "    accdict = {}\n",
    "    for name, loader in [(\"train\", train_loader), (\"test\", test_loader)]:\n",
    "        correct = 0\n",
    "        total = 0\n",
    "        with torch.no_grad():\n",
    "            for imgs, labels in loader:\n",
    "                imgs = imgs.to(device=device)\n",
    "                labels = labels.to(device=device)\n",
    "                outputs = model(imgs)\n",
    "                _, predicted = torch.max(outputs, dim=1)\n",
    "                correct += int((predicted == labels).sum())\n",
    "                total += labels.shape[0]\n",
    "        print(\"Accuracy {}: {:.2f}\".format(name, correct / total))\n",
    "        accdict[name] = correct / total\n",
    "    return accdict\n",
    "\n",
    "\n",
    "all_acc_dict[\"l2 reg\"] = validate(model, train_loader, test_loader)"
   ]
  },
  {
   "cell_type": "code",
   "execution_count": 158,
   "metadata": {},
   "outputs": [
    {
     "name": "stdout",
     "output_type": "stream",
     "text": [
      "Training on device cuda.\n",
      "2024-10-13 21:09:04.398629 Epoch 1, Training loss 0.5797387063503265\n",
      "2024-10-13 21:09:06.916642 Epoch 10, Training loss 0.3439884484763358\n",
      "2024-10-13 21:09:09.722175 Epoch 20, Training loss 0.3071264182306399\n",
      "2024-10-13 21:09:12.520747 Epoch 30, Training loss 0.291175704568055\n",
      "2024-10-13 21:09:15.322149 Epoch 40, Training loss 0.27351575985455967\n",
      "2024-10-13 21:09:18.124397 Epoch 50, Training loss 0.26396500267040957\n",
      "2024-10-13 21:09:20.932758 Epoch 60, Training loss 0.25140389121451956\n",
      "2024-10-13 21:09:23.742779 Epoch 70, Training loss 0.24214954237649394\n",
      "2024-10-13 21:09:26.560756 Epoch 80, Training loss 0.2360470366610843\n",
      "2024-10-13 21:09:29.374746 Epoch 90, Training loss 0.22185386209541066\n",
      "2024-10-13 21:09:32.178422 Epoch 100, Training loss 0.2125109483481972\n",
      "Accuracy train: 0.92\n",
      "Accuracy test: 0.89\n"
     ]
    }
   ],
   "source": [
    "import datetime\n",
    "from torch.utils.data import DataLoader\n",
    "\n",
    "device = torch.device(\"cuda\") if torch.cuda.is_available() else torch.device(\"cpu\")\n",
    "print(f\"Training on device {device}.\")\n",
    "\n",
    "import torch.nn.functional as F\n",
    "\n",
    "\n",
    "class NetDroupout(nn.Module):\n",
    "    def __init__(self, n_chansl=32):\n",
    "        super().__init__()\n",
    "        self.n_chansl = n_chansl\n",
    "        self.conv1 = nn.Conv2d(3, n_chansl, kernel_size=3, padding=1)\n",
    "        self.conv1_dropout = nn.Dropout(p=0.4)\n",
    "        self.conv2 = nn.Conv2d(n_chansl, n_chansl // 2, kernel_size=3, padding=1)\n",
    "        self.conv2_dropout = nn.Dropout(p=0.4)\n",
    "        self.fc1 = nn.Linear(8 * 8 * n_chansl // 2, 32)\n",
    "        self.fc2 = nn.Linear(32, 2)\n",
    "\n",
    "    def forward(self, x):\n",
    "        out = F.max_pool2d(torch.tanh(self.conv1(x)), 2)\n",
    "        out = self.conv1_dropout(out)\n",
    "        out = F.max_pool2d(torch.tanh(self.conv2(out)), 2)\n",
    "        out = self.conv2_dropout(out)\n",
    "        out = out.view(-1, 8 * 8 * self.n_chansl // 2)\n",
    "        out = torch.tanh(self.fc1(out))\n",
    "        out = self.fc2(out)\n",
    "        return out\n",
    "\n",
    "\n",
    "def training_loop(n_epochs, optimizer, model, loss_fn, train_loader):\n",
    "    for epoch in range(1, n_epochs + 1):\n",
    "        loss_train = 0.0\n",
    "        for imgs, labels in train_loader:\n",
    "            imgs = imgs.to(device=device)\n",
    "            labels = labels.to(device=device)\n",
    "            outputs = model(imgs)\n",
    "\n",
    "            loss = loss_fn(outputs, labels)\n",
    "\n",
    "            optimizer.zero_grad()\n",
    "\n",
    "            loss.backward()\n",
    "\n",
    "            optimizer.step()\n",
    "            loss_train += loss.item()\n",
    "        if epoch == 1 or epoch % 10 == 0:\n",
    "            print(\n",
    "                \"{} Epoch {}, Training loss {}\".format(\n",
    "                    datetime.datetime.now(), epoch, loss_train / len(train_loader)\n",
    "                )\n",
    "            )  # <10>\n",
    "\n",
    "\n",
    "train_loader = DataLoader(cifar2_train, batch_size=64, shuffle=True)\n",
    "model = NetDroupout(n_chansl=32).to(device=device)\n",
    "loss_fn = torch.nn.CrossEntropyLoss()\n",
    "\n",
    "learning_rate = 1e-2\n",
    "\n",
    "optimizer = torch.optim.SGD(model.parameters(), lr=learning_rate)\n",
    "n_epochs = 100\n",
    "training_loop(\n",
    "    n_epochs=n_epochs,\n",
    "    optimizer=optimizer,\n",
    "    model=model,\n",
    "    loss_fn=loss_fn,\n",
    "    train_loader=train_loader,\n",
    ")\n",
    "test_loader = DataLoader(cifar2_test, batch_size=64, shuffle=True)\n",
    "\n",
    "\n",
    "def validate(model, train_loader, test_loader):\n",
    "    accdict = {}\n",
    "    for name, loader in [(\"train\", train_loader), (\"test\", test_loader)]:\n",
    "        correct = 0\n",
    "        total = 0\n",
    "        with torch.no_grad():\n",
    "            for imgs, labels in loader:\n",
    "                imgs = imgs.to(device=device)\n",
    "                labels = labels.to(device=device)\n",
    "                outputs = model(imgs)\n",
    "                _, predicted = torch.max(outputs, dim=1)\n",
    "                correct += int((predicted == labels).sum())\n",
    "                total += labels.shape[0]\n",
    "        print(\"Accuracy {}: {:.2f}\".format(name, correct / total))\n",
    "        accdict[name] = correct / total\n",
    "    return accdict\n",
    "\n",
    "\n",
    "all_acc_dict[\"dropout\"] = validate(model, train_loader, test_loader)"
   ]
  },
  {
   "cell_type": "code",
   "execution_count": 159,
   "metadata": {},
   "outputs": [
    {
     "name": "stdout",
     "output_type": "stream",
     "text": [
      "Training on device cuda.\n",
      "2024-10-13 21:10:05.947377 Epoch 1, Training loss 0.46307906698269446\n",
      "2024-10-13 21:10:09.044462 Epoch 10, Training loss 0.2732372913201144\n",
      "2024-10-13 21:10:12.488404 Epoch 20, Training loss 0.21892111715237805\n",
      "2024-10-13 21:10:15.935645 Epoch 30, Training loss 0.17231591226189\n",
      "2024-10-13 21:10:19.402778 Epoch 40, Training loss 0.1380569116704783\n",
      "2024-10-13 21:10:22.856509 Epoch 50, Training loss 0.10554727496709793\n",
      "2024-10-13 21:10:26.306393 Epoch 60, Training loss 0.08300424767005596\n",
      "2024-10-13 21:10:29.762530 Epoch 70, Training loss 0.0579459623131118\n",
      "2024-10-13 21:10:33.226891 Epoch 80, Training loss 0.03934454550124278\n",
      "2024-10-13 21:10:36.686926 Epoch 90, Training loss 0.0257160639639493\n",
      "2024-10-13 21:10:40.158511 Epoch 100, Training loss 0.019792186105208602\n",
      "Accuracy train: 1.00\n",
      "Accuracy test: 0.88\n"
     ]
    }
   ],
   "source": [
    "import datetime\n",
    "from torch.utils.data import DataLoader\n",
    "\n",
    "device = torch.device(\"cuda\") if torch.cuda.is_available() else torch.device(\"cpu\")\n",
    "print(f\"Training on device {device}.\")\n",
    "\n",
    "import torch.nn.functional as F\n",
    "\n",
    "\n",
    "class NetBatchNorm(nn.Module):\n",
    "    def __init__(self, n_chansl=32):\n",
    "        super().__init__()\n",
    "        self.n_chansl = n_chansl\n",
    "        self.conv1 = nn.Conv2d(3, n_chansl, kernel_size=3, padding=1)\n",
    "        self.conv1_batchnorm = nn.BatchNorm2d(num_features=n_chansl)\n",
    "        self.conv2 = nn.Conv2d(n_chansl, n_chansl // 2, kernel_size=3, padding=1)\n",
    "        self.conv2_batchnorm = nn.BatchNorm2d(num_features=n_chansl // 2)\n",
    "        self.fc1 = nn.Linear(8 * 8 * n_chansl // 2, 32)\n",
    "        self.fc2 = nn.Linear(32, 2)\n",
    "\n",
    "    def forward(self, x):\n",
    "        out = self.conv1_batchnorm(self.conv1(x))\n",
    "        out = F.max_pool2d(torch.tanh(out), 2)\n",
    "        out = self.conv2_batchnorm(self.conv2(out))\n",
    "        out = F.max_pool2d(torch.tanh(out), 2)\n",
    "        out = out.view(-1, 8 * 8 * self.n_chansl // 2)\n",
    "        out = torch.tanh(self.fc1(out))\n",
    "        out = self.fc2(out)\n",
    "        return out\n",
    "\n",
    "\n",
    "def training_loop(n_epochs, optimizer, model, loss_fn, train_loader):\n",
    "    for epoch in range(1, n_epochs + 1):\n",
    "        loss_train = 0.0\n",
    "        for imgs, labels in train_loader:\n",
    "            imgs = imgs.to(device=device)\n",
    "            labels = labels.to(device=device)\n",
    "            outputs = model(imgs)\n",
    "\n",
    "            loss = loss_fn(outputs, labels)\n",
    "\n",
    "            optimizer.zero_grad()\n",
    "\n",
    "            loss.backward()\n",
    "\n",
    "            optimizer.step()\n",
    "            loss_train += loss.item()\n",
    "        if epoch == 1 or epoch % 10 == 0:\n",
    "            print(\n",
    "                \"{} Epoch {}, Training loss {}\".format(\n",
    "                    datetime.datetime.now(), epoch, loss_train / len(train_loader)\n",
    "                )\n",
    "            )  # <10>\n",
    "\n",
    "\n",
    "train_loader = DataLoader(cifar2_train, batch_size=64, shuffle=True)\n",
    "model = NetBatchNorm(n_chansl=32).to(device=device)\n",
    "loss_fn = torch.nn.CrossEntropyLoss()\n",
    "\n",
    "learning_rate = 1e-2\n",
    "\n",
    "optimizer = torch.optim.SGD(model.parameters(), lr=learning_rate)\n",
    "n_epochs = 100\n",
    "training_loop(\n",
    "    n_epochs=n_epochs,\n",
    "    optimizer=optimizer,\n",
    "    model=model,\n",
    "    loss_fn=loss_fn,\n",
    "    train_loader=train_loader,\n",
    ")\n",
    "test_loader = DataLoader(cifar2_test, batch_size=64, shuffle=True)\n",
    "\n",
    "\n",
    "def validate(model, train_loader, test_loader):\n",
    "    accdict = {}\n",
    "    for name, loader in [(\"train\", train_loader), (\"test\", test_loader)]:\n",
    "        correct = 0\n",
    "        total = 0\n",
    "        with torch.no_grad():\n",
    "            for imgs, labels in loader:\n",
    "                imgs = imgs.to(device=device)\n",
    "                labels = labels.to(device=device)\n",
    "                outputs = model(imgs)\n",
    "                _, predicted = torch.max(outputs, dim=1)\n",
    "                correct += int((predicted == labels).sum())\n",
    "                total += labels.shape[0]\n",
    "        print(\"Accuracy {}: {:.2f}\".format(name, correct / total))\n",
    "        accdict[name] = correct / total\n",
    "    return accdict\n",
    "\n",
    "\n",
    "all_acc_dict[\"batch_norm\"] = validate(model, train_loader, test_loader)"
   ]
  },
  {
   "cell_type": "code",
   "execution_count": 160,
   "metadata": {},
   "outputs": [
    {
     "name": "stdout",
     "output_type": "stream",
     "text": [
      "Training on device cuda.\n",
      "2024-10-13 21:10:43.754215 Epoch 1, Training loss 0.6832867424199536\n",
      "2024-10-13 21:10:46.350951 Epoch 10, Training loss 0.33982892619196775\n",
      "2024-10-13 21:10:49.213363 Epoch 20, Training loss 0.29338459281405066\n",
      "2024-10-13 21:10:52.096630 Epoch 30, Training loss 0.2662086987001881\n",
      "2024-10-13 21:10:54.961505 Epoch 40, Training loss 0.23809427867649466\n",
      "2024-10-13 21:10:57.828614 Epoch 50, Training loss 0.213514727012367\n",
      "2024-10-13 21:11:00.698895 Epoch 60, Training loss 0.18567653007473156\n",
      "2024-10-13 21:11:03.573143 Epoch 70, Training loss 0.1637441944212291\n",
      "2024-10-13 21:11:06.442186 Epoch 80, Training loss 0.14117478007438836\n",
      "2024-10-13 21:11:09.306900 Epoch 90, Training loss 0.12007381496535745\n",
      "2024-10-13 21:11:12.176204 Epoch 100, Training loss 0.09239207221206966\n",
      "Accuracy train: 0.96\n",
      "Accuracy test: 0.90\n"
     ]
    }
   ],
   "source": [
    "import datetime\n",
    "from torch.utils.data import DataLoader\n",
    "\n",
    "device = torch.device(\"cuda\") if torch.cuda.is_available() else torch.device(\"cpu\")\n",
    "print(f\"Training on device {device}.\")\n",
    "\n",
    "import torch.nn.functional as F\n",
    "\n",
    "\n",
    "class NetDepth(nn.Module):\n",
    "    def __init__(self, n_chansl=32):\n",
    "        super().__init__()\n",
    "        self.n_chansl = n_chansl\n",
    "        self.conv1 = nn.Conv2d(3, n_chansl, kernel_size=3, padding=1)\n",
    "        self.conv2 = nn.Conv2d(n_chansl, n_chansl // 2, kernel_size=3, padding=1)\n",
    "        self.conv3 = nn.Conv2d(n_chansl // 2, n_chansl // 2, kernel_size=3, padding=1)\n",
    "        self.fc1 = nn.Linear(4 * 4 * n_chansl // 2, 32)\n",
    "        self.fc2 = nn.Linear(32, 2)\n",
    "\n",
    "    def forward(self, x):\n",
    "        out = F.max_pool2d(torch.relu(self.conv1(x)), 2)\n",
    "        out = F.max_pool2d(torch.relu(self.conv2(out)), 2)\n",
    "        out = F.max_pool2d(torch.relu(self.conv3(out)), 2)\n",
    "        out = out.view(-1, 4 * 4 * self.n_chansl // 2)\n",
    "        out = torch.relu(self.fc1(out))\n",
    "        out = self.fc2(out)\n",
    "        return out\n",
    "\n",
    "\n",
    "def training_loop(n_epochs, optimizer, model, loss_fn, train_loader):\n",
    "    for epoch in range(1, n_epochs + 1):\n",
    "        loss_train = 0.0\n",
    "        for imgs, labels in train_loader:\n",
    "            imgs = imgs.to(device=device)\n",
    "            labels = labels.to(device=device)\n",
    "            outputs = model(imgs)\n",
    "\n",
    "            loss = loss_fn(outputs, labels)\n",
    "\n",
    "            optimizer.zero_grad()\n",
    "\n",
    "            loss.backward()\n",
    "\n",
    "            optimizer.step()\n",
    "            loss_train += loss.item()\n",
    "        if epoch == 1 or epoch % 10 == 0:\n",
    "            print(\n",
    "                \"{} Epoch {}, Training loss {}\".format(\n",
    "                    datetime.datetime.now(), epoch, loss_train / len(train_loader)\n",
    "                )\n",
    "            )  # <10>\n",
    "\n",
    "\n",
    "train_loader = DataLoader(cifar2_train, batch_size=64, shuffle=True)\n",
    "model = NetDepth(n_chansl=32).to(device=device)\n",
    "loss_fn = torch.nn.CrossEntropyLoss()\n",
    "\n",
    "learning_rate = 1e-2\n",
    "\n",
    "optimizer = torch.optim.SGD(model.parameters(), lr=learning_rate)\n",
    "n_epochs = 100\n",
    "training_loop(\n",
    "    n_epochs=n_epochs,\n",
    "    optimizer=optimizer,\n",
    "    model=model,\n",
    "    loss_fn=loss_fn,\n",
    "    train_loader=train_loader,\n",
    ")\n",
    "test_loader = DataLoader(cifar2_test, batch_size=64, shuffle=True)\n",
    "\n",
    "\n",
    "def validate(model, train_loader, test_loader):\n",
    "    accdict = {}\n",
    "    for name, loader in [(\"train\", train_loader), (\"test\", test_loader)]:\n",
    "        correct = 0\n",
    "        total = 0\n",
    "        with torch.no_grad():\n",
    "            for imgs, labels in loader:\n",
    "                imgs = imgs.to(device=device)\n",
    "                labels = labels.to(device=device)\n",
    "                outputs = model(imgs)\n",
    "                _, predicted = torch.max(outputs, dim=1)\n",
    "                correct += int((predicted == labels).sum())\n",
    "                total += labels.shape[0]\n",
    "        print(\"Accuracy {}: {:.2f}\".format(name, correct / total))\n",
    "        accdict[name] = correct / total\n",
    "    return accdict\n",
    "\n",
    "\n",
    "all_acc_dict[\"depth\"] = validate(model, train_loader, test_loader)"
   ]
  },
  {
   "cell_type": "code",
   "execution_count": 161,
   "metadata": {},
   "outputs": [
    {
     "name": "stdout",
     "output_type": "stream",
     "text": [
      "Training on device cuda.\n",
      "2024-10-13 21:11:23.560490 Epoch 1, Training loss 0.603119527648209\n",
      "2024-10-13 21:11:26.146220 Epoch 10, Training loss 0.32123658820322365\n",
      "2024-10-13 21:11:29.019916 Epoch 20, Training loss 0.27408696151083445\n",
      "2024-10-13 21:11:31.894145 Epoch 30, Training loss 0.2385721266934067\n",
      "2024-10-13 21:11:34.776905 Epoch 40, Training loss 0.20728999428498518\n",
      "2024-10-13 21:11:37.652993 Epoch 50, Training loss 0.182827611566539\n",
      "2024-10-13 21:11:40.530389 Epoch 60, Training loss 0.1563510879589494\n",
      "2024-10-13 21:11:43.418815 Epoch 70, Training loss 0.141192899933856\n",
      "2024-10-13 21:11:46.328844 Epoch 80, Training loss 0.12243448270211933\n",
      "2024-10-13 21:11:49.211705 Epoch 90, Training loss 0.09380115718124019\n",
      "2024-10-13 21:11:52.095475 Epoch 100, Training loss 0.07068272357937067\n",
      "Accuracy train: 0.98\n",
      "Accuracy test: 0.90\n"
     ]
    }
   ],
   "source": [
    "import datetime\n",
    "from torch.utils.data import DataLoader\n",
    "\n",
    "device = torch.device(\"cuda\") if torch.cuda.is_available() else torch.device(\"cpu\")\n",
    "print(f\"Training on device {device}.\")\n",
    "\n",
    "import torch.nn.functional as F\n",
    "\n",
    "\n",
    "class NetRes(nn.Module):\n",
    "    def __init__(self, n_chansl=32):\n",
    "        super().__init__()\n",
    "        self.n_chansl = n_chansl\n",
    "        self.conv1 = nn.Conv2d(3, n_chansl, kernel_size=3, padding=1)\n",
    "        self.conv2 = nn.Conv2d(n_chansl, n_chansl // 2, kernel_size=3, padding=1)\n",
    "        self.conv3 = nn.Conv2d(n_chansl // 2, n_chansl // 2, kernel_size=3, padding=1)\n",
    "        self.fc1 = nn.Linear(4 * 4 * n_chansl // 2, 32)\n",
    "        self.fc2 = nn.Linear(32, 2)\n",
    "\n",
    "    def forward(self, x):\n",
    "        out = F.max_pool2d(torch.relu(self.conv1(x)), 2)\n",
    "        out = F.max_pool2d(torch.relu(self.conv2(out)), 2)\n",
    "        out1 = out\n",
    "        out = F.max_pool2d(torch.relu(self.conv3(out)) + out1, 2)\n",
    "        out = out.view(-1, 4 * 4 * self.n_chansl // 2)\n",
    "        out = torch.relu(self.fc1(out))\n",
    "        out = self.fc2(out)\n",
    "        return out\n",
    "\n",
    "\n",
    "def training_loop(n_epochs, optimizer, model, loss_fn, train_loader):\n",
    "    for epoch in range(1, n_epochs + 1):\n",
    "        loss_train = 0.0\n",
    "        for imgs, labels in train_loader:\n",
    "            imgs = imgs.to(device=device)\n",
    "            labels = labels.to(device=device)\n",
    "            outputs = model(imgs)\n",
    "\n",
    "            loss = loss_fn(outputs, labels)\n",
    "\n",
    "            optimizer.zero_grad()\n",
    "\n",
    "            loss.backward()\n",
    "\n",
    "            optimizer.step()\n",
    "            loss_train += loss.item()\n",
    "        if epoch == 1 or epoch % 10 == 0:\n",
    "            print(\n",
    "                \"{} Epoch {}, Training loss {}\".format(\n",
    "                    datetime.datetime.now(), epoch, loss_train / len(train_loader)\n",
    "                )\n",
    "            )  # <10>\n",
    "\n",
    "\n",
    "train_loader = DataLoader(cifar2_train, batch_size=64, shuffle=True)\n",
    "model = NetRes(n_chansl=32).to(device=device)\n",
    "loss_fn = torch.nn.CrossEntropyLoss()\n",
    "\n",
    "learning_rate = 1e-2\n",
    "\n",
    "optimizer = torch.optim.SGD(model.parameters(), lr=learning_rate)\n",
    "n_epochs = 100\n",
    "training_loop(\n",
    "    n_epochs=n_epochs,\n",
    "    optimizer=optimizer,\n",
    "    model=model,\n",
    "    loss_fn=loss_fn,\n",
    "    train_loader=train_loader,\n",
    ")\n",
    "test_loader = DataLoader(cifar2_test, batch_size=64, shuffle=True)\n",
    "\n",
    "\n",
    "def validate(model, train_loader, test_loader):\n",
    "    accdict = {}\n",
    "    for name, loader in [(\"train\", train_loader), (\"test\", test_loader)]:\n",
    "        correct = 0\n",
    "        total = 0\n",
    "        with torch.no_grad():\n",
    "            for imgs, labels in loader:\n",
    "                imgs = imgs.to(device=device)\n",
    "                labels = labels.to(device=device)\n",
    "                outputs = model(imgs)\n",
    "                _, predicted = torch.max(outputs, dim=1)\n",
    "                correct += int((predicted == labels).sum())\n",
    "                total += labels.shape[0]\n",
    "        print(\"Accuracy {}: {:.2f}\".format(name, correct / total))\n",
    "        accdict[name] = correct / total\n",
    "    return accdict\n",
    "\n",
    "\n",
    "all_acc_dict[\"res\"] = validate(model, train_loader, test_loader)"
   ]
  },
  {
   "cell_type": "code",
   "execution_count": 162,
   "metadata": {},
   "outputs": [],
   "source": [
    "class ResBlock(nn.Module):\n",
    "    def __init__(self, n_chans):\n",
    "        super(ResBlock, self).__init__()\n",
    "        self.conv = nn.Conv2d(\n",
    "            n_chans, n_chans, kernel_size=3, padding=1, bias=False\n",
    "        )  # <1>\n",
    "        self.batch_norm = nn.BatchNorm2d(num_features=n_chans)\n",
    "        torch.nn.init.kaiming_normal_(self.conv.weight, nonlinearity=\"relu\")  # <2>\n",
    "        torch.nn.init.constant_(self.batch_norm.weight, 0.5)\n",
    "        torch.nn.init.zeros_(self.batch_norm.bias)\n",
    "\n",
    "    def forward(self, x):\n",
    "        out = self.conv(x)\n",
    "        out = self.batch_norm(out)\n",
    "        out = torch.relu(out)\n",
    "        return out + x"
   ]
  },
  {
   "cell_type": "code",
   "execution_count": 163,
   "metadata": {},
   "outputs": [],
   "source": [
    "class NetResDeep(nn.Module):\n",
    "    def __init__(self, n_chans1=32, n_blocks=10):\n",
    "        super().__init__()\n",
    "        self.n_chans1 = n_chans1\n",
    "        self.conv1 = nn.Conv2d(3, n_chans1, kernel_size=3, padding=1)\n",
    "        self.resblocks = nn.Sequential(*(n_blocks * [ResBlock(n_chans=n_chans1)]))\n",
    "        self.fc1 = nn.Linear(8 * 8 * n_chans1, 32)\n",
    "        self.fc2 = nn.Linear(32, 2)\n",
    "\n",
    "    def forward(self, x):\n",
    "        out = F.max_pool2d(torch.relu(self.conv1(x)), 2)\n",
    "        out = self.resblocks(out)\n",
    "        out = F.max_pool2d(out, 2)\n",
    "        out = out.view(-1, 8 * 8 * self.n_chans1)\n",
    "        out = torch.relu(self.fc1(out))\n",
    "        out = self.fc2(out)\n",
    "        return out"
   ]
  },
  {
   "cell_type": "code",
   "execution_count": 164,
   "metadata": {},
   "outputs": [
    {
     "name": "stdout",
     "output_type": "stream",
     "text": [
      "2024-10-13 21:12:20.116648 Epoch 1, Training loss 1.7286535780520955\n",
      "2024-10-13 21:13:50.767935 Epoch 10, Training loss 0.3382566306431582\n",
      "2024-10-13 21:15:31.762492 Epoch 20, Training loss 0.27404816999177267\n",
      "2024-10-13 21:17:12.869819 Epoch 30, Training loss 0.22076377960716842\n",
      "2024-10-13 21:18:53.899719 Epoch 40, Training loss 0.17019867156721225\n",
      "2024-10-13 21:20:34.997866 Epoch 50, Training loss 0.11632619194306765\n",
      "2024-10-13 21:22:16.078991 Epoch 60, Training loss 0.13467953445472916\n",
      "2024-10-13 21:23:57.137196 Epoch 70, Training loss 0.06404239328720482\n",
      "2024-10-13 21:25:38.212353 Epoch 80, Training loss 0.038085024277412685\n",
      "2024-10-13 21:27:19.347321 Epoch 90, Training loss 0.03116924603633541\n",
      "2024-10-13 21:29:00.476225 Epoch 100, Training loss 0.03409454244252733\n",
      "Accuracy train: 0.99\n",
      "Accuracy test: 0.87\n"
     ]
    }
   ],
   "source": [
    "model = NetResDeep(n_chans1=32, n_blocks=100).to(device=device)\n",
    "optimizer = optim.SGD(model.parameters(), lr=3e-3)\n",
    "loss_fn = nn.CrossEntropyLoss()\n",
    "\n",
    "training_loop(\n",
    "    n_epochs=100,\n",
    "    optimizer=optimizer,\n",
    "    model=model,\n",
    "    loss_fn=loss_fn,\n",
    "    train_loader=train_loader,\n",
    ")\n",
    "all_acc_dict[\"res deep\"] = validate(model, train_loader, test_loader)"
   ]
  },
  {
   "cell_type": "code",
   "execution_count": 165,
   "metadata": {},
   "outputs": [
    {
     "data": {
      "image/png": "[encoded data removed]",
      "text/plain": [
       "<Figure size 640x480 with 1 Axes>"
      ]
     },
     "metadata": {},
     "output_type": "display_data"
    }
   ],
   "source": [
    "trn_acc = [v[\"train\"] for k, v in all_acc_dict.items()]\n",
    "val_acc = [v[\"test\"] for k, v in all_acc_dict.items()]\n",
    "\n",
    "width = 0.3\n",
    "plt.bar(np.arange(len(trn_acc)), trn_acc, width=width, label=\"train\")\n",
    "plt.bar(np.arange(len(val_acc)) + width, val_acc, width=width, label=\"test\")\n",
    "plt.xticks(np.arange(len(val_acc)) + width / 2, list(all_acc_dict.keys()), rotation=60)\n",
    "plt.ylabel(\"accuracy\")\n",
    "plt.legend(loc=\"lower right\")\n",
    "plt.ylim(0.7, 1)\n",
    "# plt.savefig(\"accuracy_comparison.png\", bbox_inches=\"tight\")\n",
    "plt.show()"
   ]
  }
 ],
 "metadata": {
  "kernelspec": {
   "display_name": "base",
   "language": "python",
   "name": "python3"
  },
  "language_info": {
   "codemirror_mode": {
    "name": "ipython",
    "version": 3
   },
   "file_extension": ".py",
   "mimetype": "text/x-python",
   "name": "python",
   "nbconvert_exporter": "python",
   "pygments_lexer": "ipython3",
   "version": "3.11.5"
  }
 },
 "nbformat": 4,
 "nbformat_minor": 2
}
